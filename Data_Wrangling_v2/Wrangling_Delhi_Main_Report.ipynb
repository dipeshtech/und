{
 "metadata": {
  "name": "",
  "signature": "sha256:ffaa652018f8cb9117e6b2b999bbc83a0427007416d4666bc07322333d872aff"
 },
 "nbformat": 3,
 "nbformat_minor": 0,
 "worksheets": [
  {
   "cells": [
    {
     "cell_type": "markdown",
     "metadata": {},
     "source": [
      "<h1> Open Street Map Project </h1>"
     ]
    },
    {
     "cell_type": "markdown",
     "metadata": {},
     "source": [
      "<h2> Data Wrangling with Mongo DB </h2>"
     ]
    },
    {
     "cell_type": "markdown",
     "metadata": {},
     "source": [
      "<h3> By: Dipesh Kumar Singh </h3>"
     ]
    },
    {
     "cell_type": "markdown",
     "metadata": {},
     "source": [
      "Map Area: Delhi, New Delhi, India"
     ]
    },
    {
     "cell_type": "heading",
     "level": 3,
     "metadata": {},
     "source": [
      "1> Problems encountered in Map"
     ]
    },
    {
     "cell_type": "markdown",
     "metadata": {},
     "source": [
      "After downloading the OSM extract and running through initial analysis, I have encountered following problems which i will discuss one by one:\n",
      "<br/>\n",
      "<h4>Filtered out places with just longitude and latitude:</h4>\n",
      "<p>\n",
      "There are many places in the extract without much detail about the place except the lat long coordinates. \n",
      "<br/>\n",
      "It is better to get rid of those places which leaves us with 20K out of 500K places.\n",
      "</p>\n",
      "<p>\n",
      "More details : <a href=\"Wrangling_NewDelhi.ipynb#fix_lat_lon\">here</a>\n",
      "</p>\n",
      "\n",
      "<br/>\n",
      "<h4>Filtered out places which are not properly labeled:</h4>\n",
      "<p>\n",
      "The places where name label is not descriptive were filtered out, which mainly included power towers.<br/>\n",
      "Hence, filtered out places which has 'power' tag in our list. \n",
      "</p>\n",
      "\n",
      "<p>More details <a href=\"Wrangling_NewDelhi.ipynb#filter_labels\">here</a> </p>\n",
      "\n",
      "\n",
      "<br/>\n",
      "\n",
      "<h4>Filtered out places which are training centres, classes etc.</h4>\n",
      "<p>\n",
      "As training center's and classes are places not of much interest, it's better to filter those out.\n",
      "<br/>\n",
      "Below regex was used to search these places and remove them from array.\n",
      "<br/>\n",
      "re.compile(r'C-\\d+|class|Training$').\n",
      "</p>\n",
      "<p>More details <a href=\"Wrangling_NewDelhi.ipynb#filter_tr_class\">here</a>\n",
      "</p>\n",
      "\n",
      "<br/>\n",
      "\n",
      "\n",
      "<h4>Fixed wrong spelling of a Hindi Label</h4>\n",
      "<p>\n",
      "In a random scan, caught on an incorrect spelling of \"Bhavan\", a Hindi word which means \"building\".<br/>\n",
      "<br/>\n",
      "Original: Bharat Sanchar Bhuvan - BSNL HQ\n",
      "<br/>\n",
      "Corrected: Bharat Sanchar Bhavan - BSNL HQ\n",
      "<br/>\n",
      "Above is a head quarter of state-owned telecommunications company. BSNL is an acronym of Bharat Sanchar Nigam Limited.</p>\n",
      "<p>More details <a href=\"Wrangling_NewDelhi.ipynb#fix_spelling\">here</a></p>\n",
      "<br/>\n",
      "\n",
      "<h4>To identify places of interest</h4>\n",
      "\n",
      "<p>\n",
      "Grouped 'shop','amenity','designation','cuisine','leisure' under Generic label 'tags'.</p>\n",
      "<p>More details <a href=\"Wrangling_NewDelhi.ipynb#label_tags\">here</a> </p>\n",
      "\n",
      "<br/>\n",
      "\n",
      "<h4>Form Address</h4>\n",
      "<p>\n",
      "Combined 'number' and 'street' in 'address' label and city in 'city' label to form an address.\n",
      "</p>\n",
      "<p>More details <a href=\"Wrangling_NewDelhi.ipynb#address_label\">here</a></p>\n",
      "\n",
      "<br/>\n",
      "\n",
      "<h4>Analyzed Phone numbers</h4>\n",
      "<p>\n",
      "Phone numbers were expressed in various formats, like with country code, without country code. For STD calls, many prefer to use to '011' or '+91 11' resulting in non-uniformity and inconsistency of data.</p>\n",
      "<p>\n",
      "Also, to express multiple phone numbers the format used was \"+91 11 23521362 , 63, 64, 65\" or \"+91-120-3830000; +91-11-23582812 / 4658\". It was difficult to fix this inconsistency. </p>\n",
      "<p>\n",
      "In the best effort, I have played with this data to classify the landline phone numbers and mobile phone numbers. \n",
      "</p>\n",
      "<p>\n",
      "The regular expression used to match mobile phone number is : r'^(\\+91[\\-\\s]?)?[89]\\d{9}$'. \n",
      "This regex accepts '-' after +91 and spaces, also it assumes that mobile numbers start with 8 or 9. (Now a days, we see cell numbers starting with 7 as well.)\n",
      "</p>\n",
      "<p>More details <a href=\"Wrangling_NewDelhi.ipynb#analyze_phone_numbers\">here</a> </p>\n",
      "<br/>\n",
      "\n",
      "<h4>Audited Websites and fixed</h4>\n",
      "<p>\n",
      "Fixed few websites which did not have http:// or https:// by appending http://.\n",
      "</p>\n",
      "<p>More details <a href=\"Wrangling_NewDelhi.ipynb#auditing_websites\">here</a> </p>\n",
      "\n"
     ]
    },
    {
     "cell_type": "heading",
     "level": 3,
     "metadata": {},
     "source": [
      "2> Data Overview"
     ]
    },
    {
     "cell_type": "markdown",
     "metadata": {},
     "source": [
      "Open street map data extract was downloaded from Mapzen Weekly OSM metro extracts (https://mapzen.com/metro-extracts) "
     ]
    },
    {
     "cell_type": "markdown",
     "metadata": {},
     "source": [
      "<h4> List the size of files </h4>"
     ]
    },
    {
     "cell_type": "code",
     "collapsed": false,
     "input": [
      "!ls -ltrh /home/cloudera/Downloads/pythoncode/datawrang/OSM"
     ],
     "language": "python",
     "metadata": {},
     "outputs": [
      {
       "output_type": "stream",
       "stream": "stdout",
       "text": [
        "total 117M\r\n",
        "-rw-rw-r-- 1 cloudera cloudera 7.7M Apr 20 02:02 new-delhi_india.osm.bz2\r\n",
        "-rw-rw-r-- 1 cloudera cloudera 109M Apr 20 02:03 new-delhi_india.osm\r\n"
       ]
      }
     ],
     "prompt_number": 3
    },
    {
     "cell_type": "markdown",
     "metadata": {},
     "source": [
      "The new-delhi_india.osm file size is 109 MB "
     ]
    },
    {
     "cell_type": "markdown",
     "metadata": {},
     "source": [
      "<b> Summary </b>\n",
      "<p>\n",
      "Top level Element types under root element OSM and their count:\n",
      "<ul>\n",
      "<li>Bounds  : 1</li>\n",
      "<li>node    : 500620</li>\n",
      "<li>relation: 2389</li>\n",
      "<li>way     : 87026</li>\n",
      "</ul> \n",
      "</p>"
     ]
    },
    {
     "cell_type": "raw",
     "metadata": {},
     "source": [
      "###Snippet from the results to support the summary ###\n",
      "'osm': {'attributes': {'generator': 1, 'version': 1},\n",
      "         'children': {'bounds': 1,\n",
      "                      'node': 500620,\n",
      "                      'relation': 2389,\n",
      "                      'way': 87026},\n",
      "         'count': 1,\n",
      "         'grandchildren': {'member': 13539, 'nd': 647887, 'tag': 193199}},"
     ]
    },
    {
     "cell_type": "markdown",
     "metadata": {},
     "source": [
      "<p><b>More Details : </b>  <a href=\"Wrangling_NewDelhi.ipynb#osm_analysis_result\">here</a> </p>"
     ]
    },
    {
     "cell_type": "heading",
     "level": 3,
     "metadata": {},
     "source": [
      "3> Additional Ideas , Stats and Data Exploration"
     ]
    },
    {
     "cell_type": "markdown",
     "metadata": {},
     "source": [
      "<h5> An Observations: </h5>\n",
      "<p>\n",
      "In India, the format of address does not mandate the street, house number, city format. The postal address relies heavily on key landmarks known in the locality. Like \"Opposite of Xyz building\", \"near City post office\" etc.\n",
      "</p>\n",
      "\n",
      "<p>\n",
      "The street name may be in hindi or english. Say for example \"17;  Gali Chandi Wali\" is a street, the street or Ave equivalent word in this name is hindi word \"Gali\" which tranlates to street. An example of english name is : \"123;  Netaji Subhash Chandra Bose Road\"\n",
      "</p>\n",
      "\n",
      "<p>\n",
      "Let's take another example \"207/15;  prakash mohalla\" which does not have any street, just the house/building number and area.\n",
      "</p>\n",
      "<p>\n",
      "\"mohalla\" is again hindi equivalent of county/neighbourhood. The word root is from \"Arabic\"  \n",
      "</p>\n",
      "\n",
      "<p> \n",
      "While cleaning up the data or setting up an automated process for this should consider cultural and local preferences.\n",
      "</p>"
     ]
    },
    {
     "cell_type": "markdown",
     "metadata": {},
     "source": [
      "<h3> Data exploration using mongodb </h3>"
     ]
    },
    {
     "cell_type": "markdown",
     "metadata": {},
     "source": [
      "<p>After cleaning data, its imported into mongodb collection as json documents.</p>\n",
      "<p>Total : 4385 documents imported. </p>\n",
      "<h5>Number of places with no names: </h5>\n",
      "<br/>\n",
      "Let's check in our list, after so much of cleansing how many places are left with no names.\n",
      "<br>\n",
      "<p>\n",
      "Total number of places : 4385 <br/>\n",
      "Number of places without Name : 666\n",
      "<br/>\n",
      "These places with no names are mostly fuel stations, atm, parking etc.<br/>\n",
      "</p>\n",
      "<p>More Details : <a href=\"Wrangling_NewDelhi.ipynb#name_nonames\">here</a> </p>"
     ]
    },
    {
     "cell_type": "markdown",
     "metadata": {},
     "source": [
      "<h5>Number of Schools </h5>\n",
      "<br/>\n",
      "Let's check number of schools in our list.\n",
      "The query is based on 'school' tag. <br/>\n",
      "{\"$match\" : {\"tags\" : 'school'}}\n",
      "<br>\n",
      "<p>\n",
      "Total number of places : 4385<br/>\n",
      "Number of schools : 121\n",
      "<br/>\n",
      "</p>\n",
      "<p>More Details : <a href=\"Wrangling_NewDelhi.ipynb#num_schools\">here</a> </p>"
     ]
    },
    {
     "cell_type": "markdown",
     "metadata": {},
     "source": [
      "<h5>Number of Schools and Colleges </h5>\n",
      "<br/>\n",
      "Let see total number of school and colleges, using \"OR\" in the query pipeline:\n",
      "The query used is <br/>\n",
      "{\"$match\" : {\"$or\":[{\"tags\":'school'},{\"tags\":'college'}]}}\n",
      "<br>\n",
      "<p>\n",
      "Total number of places : 4385<br/>\n",
      "Number of schools and colleges : 142\n",
      "<br/>\n",
      "</p>\n",
      "<p>More Details : <a href=\"Wrangling_NewDelhi.ipynb#schools_or_college\">here</a> </p>"
     ]
    },
    {
     "cell_type": "markdown",
     "metadata": {},
     "source": [
      "<h5>Most Common Place in the list </h5>\n",
      "<br/>\n",
      "[u'_id': u'Indian Oil', u'count': 19}<br/>\n",
      "\n",
      "<p>\n",
      "The most common place came out to be \"Indian Oil fuel stations\".\n",
      "</p>\n",
      "<p>Query Details : <a href=\"Wrangling_NewDelhi.ipynb#most_common\">here</a> </p>"
     ]
    },
    {
     "cell_type": "markdown",
     "metadata": {},
     "source": [
      "<h5>Number of Cafe's and restaurants: </h5>\n",
      "<br/>\n",
      "The query used is <br/>\n",
      "{\"$match\" : {\"$or\":[{\"tags\":'cafe'},{\"tags\":'restaurant'}]}}\n",
      "<br>\n",
      "<p>\n",
      "Total number of places : 4385 <br/>\n",
      "Number of Cafe's and restaurants : 153\n",
      "<br/>\n",
      "</p>\n",
      "<p>More Details : <a href=\"Wrangling_NewDelhi.ipynb#cafes_rest\">here</a> </p>"
     ]
    },
    {
     "cell_type": "heading",
     "level": 3,
     "metadata": {},
     "source": [
      "4> Conclusion"
     ]
    },
    {
     "cell_type": "markdown",
     "metadata": {},
     "source": [
      "The New Delhi area OSM data needs lots of cleaning and validation. The cleansing process will have to consider local and cultural preferences. It is not enriched in terms of informational tags. It seems it does not have many of my favorite restaurants and local food joints. It could be that OSM is not very popular in the area.\n"
     ]
    },
    {
     "cell_type": "heading",
     "level": 2,
     "metadata": {},
     "source": [
      "Appendix"
     ]
    },
    {
     "cell_type": "markdown",
     "metadata": {},
     "source": [
      "<a href=\"Wrangling_NewDelhi.ipynb\">Data Wrangling Supplement </a>"
     ]
    },
    {
     "cell_type": "code",
     "collapsed": false,
     "input": [],
     "language": "python",
     "metadata": {},
     "outputs": []
    }
   ],
   "metadata": {}
  }
 ]
}