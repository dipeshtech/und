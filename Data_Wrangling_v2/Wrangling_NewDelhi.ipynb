{
 "metadata": {
  "name": "",
  "signature": "sha256:fd93e075966e7851e28328c2ccda00617abf8f4cdfe56fb7c418fc8fb3902638"
 },
 "nbformat": 3,
 "nbformat_minor": 0,
 "worksheets": [
  {
   "cells": [
    {
     "cell_type": "markdown",
     "metadata": {},
     "source": [
      "<h1> Open Street Map Project </h1>"
     ]
    },
    {
     "cell_type": "markdown",
     "metadata": {},
     "source": [
      "<h3> Data Wrangling with Mongo DB - Supplement of main report </h3>"
     ]
    },
    {
     "cell_type": "markdown",
     "metadata": {},
     "source": [
      "<h3> By: Dipesh Kumar Singh </h3>"
     ]
    },
    {
     "cell_type": "heading",
     "level": 3,
     "metadata": {},
     "source": [
      "Wrangling Open Street Map Data of city New Delhi, Capital of India"
     ]
    },
    {
     "cell_type": "markdown",
     "metadata": {},
     "source": [
      "Open street map data extract was downloaded from Mapzen Weekly OSM metro extracts (https://mapzen.com/metro-extracts) "
     ]
    },
    {
     "cell_type": "heading",
     "level": 3,
     "metadata": {},
     "source": [
      "List the size of files"
     ]
    },
    {
     "cell_type": "code",
     "collapsed": false,
     "input": [
      "!ls -ltrh /home/cloudera/Downloads/pythoncode/datawrang/OSM"
     ],
     "language": "python",
     "metadata": {},
     "outputs": [
      {
       "output_type": "stream",
       "stream": "stdout",
       "text": [
        "total 117M\r\n",
        "-rw-rw-r-- 1 cloudera cloudera 7.7M Apr 20 02:02 new-delhi_india.osm.bz2\r\n",
        "-rw-rw-r-- 1 cloudera cloudera 109M Apr 20 02:03 new-delhi_india.osm\r\n"
       ]
      }
     ],
     "prompt_number": 1
    },
    {
     "cell_type": "markdown",
     "metadata": {},
     "source": [
      "The new-delhi_india.osm file size is 109 MB "
     ]
    },
    {
     "cell_type": "heading",
     "level": 4,
     "metadata": {},
     "source": [
      "Basic File Validation"
     ]
    },
    {
     "cell_type": "code",
     "collapsed": false,
     "input": [
      "!head -5 /home/cloudera/Downloads/pythoncode/datawrang/OSM/new-delhi_india.osm"
     ],
     "language": "python",
     "metadata": {},
     "outputs": [
      {
       "output_type": "stream",
       "stream": "stdout",
       "text": [
        "<?xml version='1.0' encoding='UTF-8'?>\r\n",
        "<osm version=\"0.6\" generator=\"Osmosis 0.43.1\">\r\n",
        "  <bounds minlon=\"76.69200\" minlat=\"28.18300\" maxlon=\"77.73300\" maxlat=\"28.96900\" origin=\"http://www.openstreetmap.org/api/0.6\"/>\r\n",
        "  <node id=\"16173236\" version=\"40\" timestamp=\"2015-01-22T22:33:08Z\" uid=\"13591\" user=\"lucadelu\" changeset=\"28338777\" lat=\"28.6138967\" lon=\"77.2159562\">\r\n",
        "    <tag k=\"name\" v=\"New Delhi\"/>\r\n"
       ]
      }
     ],
     "prompt_number": 2
    },
    {
     "cell_type": "code",
     "collapsed": false,
     "input": [
      "!tail -5 /home/cloudera/Downloads/pythoncode/datawrang/OSM/new-delhi_india.osm"
     ],
     "language": "python",
     "metadata": {},
     "outputs": [
      {
       "output_type": "stream",
       "stream": "stdout",
       "text": [
        "    <tag k=\"color\" v=\"gray\"/>\r\n",
        "    <tag k=\"route\" v=\"subway\"/>\r\n",
        "    <tag k=\"colour\" v=\"gray\"/>\r\n",
        "  </relation>\r\n",
        "</osm>\r\n"
       ]
      }
     ],
     "prompt_number": 3
    },
    {
     "cell_type": "heading",
     "level": 4,
     "metadata": {},
     "source": [
      "Explore dataset"
     ]
    },
    {
     "cell_type": "code",
     "collapsed": false,
     "input": [
      "import xml.etree.cElementTree as ET\n",
      "import pprint as pp\n",
      "import os"
     ],
     "language": "python",
     "metadata": {},
     "outputs": [],
     "prompt_number": 4
    },
    {
     "cell_type": "code",
     "collapsed": false,
     "input": [
      "def finished():\n",
      "    print \"------finished----\""
     ],
     "language": "python",
     "metadata": {},
     "outputs": [],
     "prompt_number": 5
    },
    {
     "cell_type": "code",
     "collapsed": false,
     "input": [
      "filename = '/home/cloudera/Downloads/pythoncode/datawrang/OSM/new-delhi_india.osm'"
     ],
     "language": "python",
     "metadata": {},
     "outputs": [],
     "prompt_number": 6
    },
    {
     "cell_type": "heading",
     "level": 4,
     "metadata": {},
     "source": [
      "Stats with count of different tags in original data file:"
     ]
    },
    {
     "cell_type": "markdown",
     "metadata": {},
     "source": [
      "Below snippet parses the OSM xml, for each xml element it checks for 'count', 'attributes', 'children', 'grandchildren', 'greatgrandchildren'. The dictionary hold the count for each element and increments on every iteration for that element unti the end of input file is reached. <br/>This is done to get an overview / summary of data."
     ]
    },
    {
     "cell_type": "code",
     "collapsed": false,
     "input": [
      "tags = {}\n",
      "\n",
      "for event,element in ET.iterparse(filename):\n",
      "    \n",
      "    if element.tag not in tags:\n",
      "        tags[element.tag] = {}\n",
      "        tags[element.tag]['count'] = 1\n",
      "        tags[element.tag]['attributes'] = {}\n",
      "        tags[element.tag]['children'] = {}\n",
      "        tags[element.tag]['grandchildren'] = {}\n",
      "        tags[element.tag]['greatgrandchildren'] = {}\n",
      "    else:\n",
      "        tags[element.tag]['count'] += 1\n",
      "        \n",
      "    for attribute_key,attribute_val in element.attrib.items():\n",
      "            if attribute_key not in tags[element.tag]['attributes']:\n",
      "                tags[element.tag]['attributes'][attribute_key] = 1\n",
      "            else:\n",
      "                tags[element.tag]['attributes'][attribute_key] += 1\n",
      "                \n",
      "    for child in element:\n",
      "        if child.tag not in tags[element.tag]['children']:\n",
      "            tags[element.tag]['children'][child.tag] = 1\n",
      "        else:\n",
      "            tags[element.tag]['children'][child.tag] += 1\n",
      "        \n",
      "        for grandchild in child:\n",
      "            if grandchild.tag not in tags[element.tag]['grandchildren']:\n",
      "                tags[element.tag]['grandchildren'][grandchild.tag] = 1\n",
      "            else:\n",
      "                tags[element.tag]['grandchildren'][grandchild.tag] += 1\n",
      "                \n",
      "            for greatgrandchild in grandchild:\n",
      "                if greatgrandchild.tag not in tags[element.tag]['greatgrandchild']:\n",
      "                    tags[element.tag]['greatgrandchild'][greatgrandchild.tag] = 1\n",
      "                else:\n",
      "                    tags[element.tag]['greatgrandchild'][greatgrandchild.tag] += 1\n",
      "               \n",
      "# free up unused dictionaries\n",
      "for item in tags.items():\n",
      "    if not item[1]['attributes']:\n",
      "        del item[1]['attributes']\n",
      "    if not item[1]['children']:\n",
      "        del item[1]['children']\n",
      "    if not item[1]['grandchildren']:\n",
      "        del item[1]['grandchildren']\n",
      "    if not item[1]['greatgrandchildren']:\n",
      "        del item[1]['greatgrandchildren']\n",
      "\n",
      "pp.pprint(tags)\n",
      "finished()"
     ],
     "language": "python",
     "metadata": {},
     "outputs": [
      {
       "output_type": "stream",
       "stream": "stdout",
       "text": [
        "{'bounds': {'attributes': {'maxlat': 1,\n",
        "                           'maxlon': 1,\n",
        "                           'minlat': 1,\n",
        "                           'minlon': 1,\n",
        "                           'origin': 1},\n",
        "            'count': 1},\n",
        " 'member': {'attributes': {'ref': 13539, 'role': 13539, 'type': 13539},\n",
        "            'count': 13539},\n",
        " 'nd': {'attributes': {'ref': 647887}, 'count': 647887},\n",
        " 'node': {'attributes': {'changeset': 500620,\n",
        "                         'id': 500620,\n",
        "                         'lat': 500620,\n",
        "                         'lon': 500620,\n",
        "                         'timestamp': 500620,\n",
        "                         'uid': 500620,\n",
        "                         'user': 500620,\n",
        "                         'version': 500620},\n",
        "          'children': {'tag': 30461},\n",
        "          'count': 500620},\n",
        " 'osm': {'attributes': {'generator': 1, 'version': 1},\n",
        "         'children': {'bounds': 1,\n",
        "                      'node': 500620,\n",
        "                      'relation': 2389,\n",
        "                      'way': 87026},\n",
        "         'count': 1,\n",
        "         'grandchildren': {'member': 13539, 'nd': 647887, 'tag': 193199}},\n",
        " 'relation': {'attributes': {'changeset': 2389,\n",
        "                             'id': 2389,\n",
        "                             'timestamp': 2389,\n",
        "                             'uid': 2389,\n",
        "                             'user': 2389,\n",
        "                             'version': 2389},\n",
        "              'children': {'member': 13539, 'tag': 10068},\n",
        "              'count': 2389},\n",
        " 'tag': {'attributes': {'k': 193199, 'v': 193199}, 'count': 193199},\n",
        " 'way': {'attributes': {'changeset': 87026,\n",
        "                        'id': 87026,\n",
        "                        'timestamp': 87026,\n",
        "                        'uid': 87026,\n",
        "                        'user': 87026,\n",
        "                        'version': 87026},\n",
        "         'children': {'nd': 647887, 'tag': 152670},\n",
        "         'count': 87026}}\n",
        "------finished----\n"
       ]
      }
     ],
     "prompt_number": 7
    },
    {
     "cell_type": "markdown",
     "metadata": {},
     "source": [
      "<h4 id=\"osm_analysis_result\">Summary of results obtained in cell above: </h4>"
     ]
    },
    {
     "cell_type": "markdown",
     "metadata": {},
     "source": [
      "Top level Element types under root element OSM and their count:\n",
      "<ul>\n",
      "<li>Bounds  : 1</li>\n",
      "<li>node    : 500620</li>\n",
      "<li>relation: 2389</li>\n",
      "<li>way     : 87026</li>\n",
      "</ul> "
     ]
    },
    {
     "cell_type": "raw",
     "metadata": {},
     "source": [
      "###Snippet from the results to support the summary ###\n",
      "'osm': {'attributes': {'generator': 1, 'version': 1},\n",
      "         'children': {'bounds': 1,\n",
      "                      'node': 500620,\n",
      "                      'relation': 2389,\n",
      "                      'way': 87026},\n",
      "         'count': 1,\n",
      "         'grandchildren': {'member': 13539, 'nd': 647887, 'tag': 193199}},"
     ]
    },
    {
     "cell_type": "heading",
     "level": 5,
     "metadata": {},
     "source": [
      "Common Imports"
     ]
    },
    {
     "cell_type": "code",
     "collapsed": false,
     "input": [
      "import pprint as pp\n",
      "import re\n",
      "import os\n",
      "import string\n",
      "import xml.etree.cElementTree as ET\n",
      "import json"
     ],
     "language": "python",
     "metadata": {},
     "outputs": [],
     "prompt_number": 8
    },
    {
     "cell_type": "code",
     "collapsed": false,
     "input": [
      "# As set object is not json serializable\n",
      "def set_default(obj):\n",
      "    if isinstance(obj, set):\n",
      "        return list(obj)\n",
      "    raise TypeError"
     ],
     "language": "python",
     "metadata": {},
     "outputs": [],
     "prompt_number": 9
    },
    {
     "cell_type": "code",
     "collapsed": false,
     "input": [
      "# Write JSON to file\n",
      "def make_places_file(places):\n",
      "    with open('places.json', 'w') as f:\n",
      "        json.dump(places, f, default=set_default, sort_keys=True, indent=2, separators=(',', ' : '))\n",
      "    finished()"
     ],
     "language": "python",
     "metadata": {},
     "outputs": [],
     "prompt_number": 10
    },
    {
     "cell_type": "markdown",
     "metadata": {},
     "source": [
      "<h5>Preparing 'places' dictionary with relevant tags from OSM data. This data will be converted to JSON file. </h5>"
     ]
    },
    {
     "cell_type": "code",
     "collapsed": false,
     "input": [
      "places = {}\n",
      "for event,element in ET.iterparse(filename):\n",
      "    if element.tag == 'node':\n",
      "        node_id = element.attrib['id']\n",
      "        places[node_id] = {}\n",
      "        places[node_id]['lat'] = element.attrib['lat'] \n",
      "        places[node_id]['lon'] = element.attrib['lon']\n",
      "        \n",
      "        for tag in element:\n",
      "            if tag.attrib['k'] == 'addr:city':\n",
      "                places[node_id]['city'] = tag.attrib['v']\n",
      "            if tag.attrib['k'] == 'addr:housenumber':\n",
      "                places[node_id]['number'] = tag.attrib['v']\n",
      "            if tag.attrib['k'] == 'addr:street':\n",
      "                places[node_id]['street'] = tag.attrib['v']\n",
      "            if tag.attrib['k'] == 'address':\n",
      "                places[node_id]['address'] = tag.attrib['v']\n",
      "            if tag.attrib['k'] == 'amenity':\n",
      "                places[node_id]['amenity'] = tag.attrib['v']\n",
      "            if tag.attrib['k'] == 'cuisine':\n",
      "                places[node_id]['cuisine'] = tag.attrib['v']\n",
      "            if tag.attrib['k'] == 'designation':\n",
      "                places[node_id]['designation'] = tag.attrib['v']\n",
      "            if tag.attrib['k'] == 'leisure':\n",
      "                places[node_id]['leisure'] = tag.attrib['v']\n",
      "            if tag.attrib['k'] == 'name':\n",
      "                places[node_id]['name'] = tag.attrib['v']\n",
      "            if tag.attrib['k'] == 'note':\n",
      "                places[node_id]['note'] = tag.attrib['v']\n",
      "            if tag.attrib['k'] == 'opening_hours':\n",
      "                places[node_id]['opening_hours'] = tag.attrib['v']\n",
      "            if tag.attrib['k'] == 'phone':\n",
      "                places[node_id]['phone'] = tag.attrib['v']\n",
      "            if tag.attrib['k'] == 'shop':\n",
      "                places[node_id]['shop'] = tag.attrib['v']\n",
      "            if tag.attrib['k'] == 'website':\n",
      "                places[node_id]['website'] = tag.attrib['v']\n",
      "            if tag.attrib['k'] == 'religion':\n",
      "                places[node_id]['religion'] = tag.attrib['v']\n",
      "            if tag.attrib['k'] == 'place':  # For places with locality tags\n",
      "                places[node_id]['place'] = tag.attrib['v']\n",
      "            if tag.attrib['k'] == 'power':  # For places associated with electrical tower tags\n",
      "                places[node_id]['power'] = tag.attrib['v']\n",
      "\n",
      "finished()"
     ],
     "language": "python",
     "metadata": {},
     "outputs": [
      {
       "output_type": "stream",
       "stream": "stdout",
       "text": [
        "------finished----\n"
       ]
      }
     ],
     "prompt_number": 11
    },
    {
     "cell_type": "markdown",
     "metadata": {},
     "source": [
      "Identify keys: Function to print keys"
     ]
    },
    {
     "cell_type": "code",
     "collapsed": false,
     "input": [
      "def check_keys():\n",
      "    keys = set()\n",
      "    for place in places:\n",
      "        for key in places[place].keys():\n",
      "            keys.add(key)\n",
      "    print keys"
     ],
     "language": "python",
     "metadata": {},
     "outputs": [],
     "prompt_number": 12
    },
    {
     "cell_type": "code",
     "collapsed": false,
     "input": [
      "keys = set()\n",
      "for place in places:\n",
      "    for key in places[place].keys():\n",
      "        keys.add(key)\n",
      "print keys"
     ],
     "language": "python",
     "metadata": {},
     "outputs": [
      {
       "output_type": "stream",
       "stream": "stdout",
       "text": [
        "set(['shop', 'city', 'amenity', 'note', 'name', 'power', 'cuisine', 'opening_hours', 'lon', 'number', 'leisure', 'designation', 'website', 'religion', 'street', 'place', 'lat', 'phone'])\n"
       ]
      }
     ],
     "prompt_number": 13
    },
    {
     "cell_type": "heading",
     "level": 4,
     "metadata": {},
     "source": [
      "Initial number of places considering attributes encountered while parsing :"
     ]
    },
    {
     "cell_type": "code",
     "collapsed": false,
     "input": [
      "len(places)"
     ],
     "language": "python",
     "metadata": {},
     "outputs": [
      {
       "metadata": {},
       "output_type": "pyout",
       "prompt_number": 14,
       "text": [
        "500620"
       ]
      }
     ],
     "prompt_number": 14
    },
    {
     "cell_type": "heading",
     "level": 4,
     "metadata": {},
     "source": [
      "Persist the places list to json file on disk :"
     ]
    },
    {
     "cell_type": "code",
     "collapsed": false,
     "input": [
      "make_places_file(places)"
     ],
     "language": "python",
     "metadata": {},
     "outputs": [
      {
       "output_type": "stream",
       "stream": "stdout",
       "text": [
        "------finished----\n"
       ]
      }
     ],
     "prompt_number": 15
    },
    {
     "cell_type": "markdown",
     "metadata": {},
     "source": [
      "<h4 id=\"fix_lat_lon\"> To remove all those places with only latitude and longitude:</h4>"
     ]
    },
    {
     "cell_type": "code",
     "collapsed": false,
     "input": [
      "nodes_to_remove = []\n",
      "for place in places:\n",
      "    if len(places[place].keys()) <= 2:\n",
      "        nodes_to_remove.append(place)\n",
      "\n",
      "for place_id in nodes_to_remove:\n",
      "    del places[place_id]"
     ],
     "language": "python",
     "metadata": {},
     "outputs": [],
     "prompt_number": 16
    },
    {
     "cell_type": "markdown",
     "metadata": {},
     "source": [
      "Check number of places after removal of places with only lat and lon :"
     ]
    },
    {
     "cell_type": "code",
     "collapsed": false,
     "input": [
      "len(places)"
     ],
     "language": "python",
     "metadata": {},
     "outputs": [
      {
       "metadata": {},
       "output_type": "pyout",
       "prompt_number": 17,
       "text": [
        "20050"
       ]
      }
     ],
     "prompt_number": 17
    },
    {
     "cell_type": "markdown",
     "metadata": {},
     "source": [
      "<h5> Method to display first 50 of particular Label, for example 'name' </h5>"
     ]
    },
    {
     "cell_type": "code",
     "collapsed": false,
     "input": [
      "## To display labels\n",
      "def display_labels(label):\n",
      "    \n",
      "    count = 0 #\n",
      "    \n",
      "    labels = set()\n",
      "    for place in places:\n",
      "        if label in places[place]:\n",
      "           labels.add(places[place][label])\n",
      "\n",
      "    for l in labels:\n",
      "        print l\n",
      "        \n",
      "        count += 1\n",
      "        if count > 50:\n",
      "            break"
     ],
     "language": "python",
     "metadata": {},
     "outputs": [],
     "prompt_number": 18
    },
    {
     "cell_type": "code",
     "collapsed": false,
     "input": [
      "display_labels('name')"
     ],
     "language": "python",
     "metadata": {},
     "outputs": [
      {
       "output_type": "stream",
       "stream": "stdout",
       "text": [
        "Sohna Motel\n",
        "hotel arjun\n",
        "Press Colony\n",
        "Tihar Jail\n",
        "Rajdhani Enclave\n",
        "Sri ram class\n",
        "Goyal MRI & Diagnostic Centre\n",
        "Jahangirpuri\n",
        "Indraprastha\n",
        "ummeed marg\n",
        "Modinagar\n",
        "Java Training\n",
        "Shyam Vihar II\n",
        "Krypton Global Health\n",
        "Indian Bank\n",
        "GAYATRI TOUR & TRAVELS\n",
        "Sriniwaspuri\n",
        "China\n",
        "Madal Pur\n",
        "Bijwasan\n",
        "Grocery\n",
        "Not Just Paranthas\n",
        "Samash Pur Bus Stop\n",
        "Sonia Vihar\n",
        "Star Paradise\n",
        "C-9\n",
        "New Delhi City Centre\n",
        "C-7\n",
        "C-6\n",
        "C-5\n",
        "C-4\n",
        "Raja Garden\n",
        "C-2\n",
        "C-1\n",
        "Indraprastha Gas office\n",
        "Municipal Corporation of Gurgaon Executive Engineer 5\n",
        "Central Library\n",
        "Darshan's\n",
        "Press Trust of India - PTI\n",
        "Tagore Garden Extension\n",
        "Nangla Bhikoo\n",
        "HDFC\n",
        "PVR Priya\n",
        "Pkt A\n",
        "BPCL society\n",
        "South Korea\n",
        "Mukandpur\n",
        "0058\n",
        "0052\n",
        "0050\n",
        "0057\n"
       ]
      }
     ],
     "prompt_number": 19
    },
    {
     "cell_type": "markdown",
     "metadata": {},
     "source": [
      "<h4 id=\"filter_labels\"> To remove the places such as power towers, localities which are not properly labeled and consider only relevant attributes :</h4>"
     ]
    },
    {
     "cell_type": "code",
     "collapsed": false,
     "input": [
      "to_remove = []\n",
      "for place in places:\n",
      "    if not 'name' in places[place].keys() and not 'shop' in places[place].keys() and not 'amenity' in places[place].keys() and not 'leisure' in places[place].keys() and not 'note' in places[place].keys():\n",
      "        to_remove.append(place)\n",
      "        \n",
      "for place_id in to_remove:\n",
      "    del places[place_id]\n",
      "\n"
     ],
     "language": "python",
     "metadata": {},
     "outputs": [],
     "prompt_number": 20
    },
    {
     "cell_type": "code",
     "collapsed": false,
     "input": [
      "len(places)"
     ],
     "language": "python",
     "metadata": {},
     "outputs": [
      {
       "metadata": {},
       "output_type": "pyout",
       "prompt_number": 21,
       "text": [
        "4416"
       ]
      }
     ],
     "prompt_number": 21
    },
    {
     "cell_type": "code",
     "collapsed": false,
     "input": [
      "for place in places:\n",
      "    if 'power' in places[place].keys():\n",
      "        print places[place]"
     ],
     "language": "python",
     "metadata": {},
     "outputs": [
      {
       "output_type": "stream",
       "stream": "stdout",
       "text": [
        "{'lat': '28.4545646', 'lon': '77.0431547', 'name': '0073', 'power': 'tower'}\n",
        "{'lat': '28.4383146', 'lon': '77.0446298', 'name': '0061', 'power': 'tower'}\n",
        "{'lat': '28.4414191', 'lon': '77.0445338', 'name': '0064', 'power': 'tower'}\n",
        "{'lat': '28.4438988', 'note': 'DEP MEH', 'lon': '77.0444955', 'name': '0066', 'power': 'tower'}\n",
        "{'lat': '28.4449384', 'lon': '77.0445231', 'name': '0067', 'power': 'tower'}\n",
        "{'lat': '28.4479591', 'lon': '77.0443942', 'name': '0069', 'power': 'tower'}\n",
        "{'lat': '28.4424393', 'lon': '77.0445004', 'name': '0065', 'power': 'tower'}\n",
        "{'lat': '28.4354601', 'lon': '77.0451778', 'name': '0058', 'power': 'tower'}\n",
        "{'lat': '28.4316005', 'lon': '77.0470635', 'name': '0055', 'power': 'tower'}\n",
        "{'lat': '28.4276296', 'lon': '77.0489785', 'name': '0050', 'power': 'tower'}\n",
        "{'lat': '28.4298917', 'lon': '77.047884', 'name': '0052', 'power': 'tower'}\n",
        "{'lat': '28.4529875', 'lon': '77.0436434', 'name': '0072', 'power': 'tower'}\n",
        "{'lat': '28.4366024', 'lon': '77.0446621', 'name': '0059', 'power': 'tower'}\n",
        "{'lat': '28.4372362', 'lon': '77.0446653', 'name': '0060', 'power': 'tower'}\n",
        "{'lat': '28.4343016', 'lon': '77.0457737', 'name': '0057', 'power': 'tower'}\n",
        "{'lat': '28.4389907', 'lon': '77.0446055', 'name': '0062', 'power': 'tower'}\n",
        "{'lat': '28.4401925', 'lon': '77.0445662', 'name': '0063', 'power': 'tower'}\n",
        "{'lat': '28.4520078', 'lon': '77.0439601', 'name': '0071', 'power': 'tower'}\n",
        "{'lat': '28.4498194', 'lon': '77.0443226', 'name': '0070', 'power': 'tower'}\n",
        "{'lat': '28.4461224', 'lon': '77.0444723', 'name': '0068', 'power': 'tower'}\n"
       ]
      }
     ],
     "prompt_number": 22
    },
    {
     "cell_type": "markdown",
     "metadata": {},
     "source": [
      "<h6> Code to remove places identifies above as 'power towers': </h6>"
     ]
    },
    {
     "cell_type": "code",
     "collapsed": false,
     "input": [
      "to_remove = []\n",
      "for place in places:\n",
      "    if 'power' in places[place].keys():\n",
      "        to_remove.append(place)\n",
      "\n",
      "for place_id in to_remove:\n",
      "    del places[place_id]\n",
      "\n",
      "print len(places)"
     ],
     "language": "python",
     "metadata": {},
     "outputs": [
      {
       "output_type": "stream",
       "stream": "stdout",
       "text": [
        "4396\n"
       ]
      }
     ],
     "prompt_number": 23
    },
    {
     "cell_type": "code",
     "collapsed": false,
     "input": [
      "display_labels('name')"
     ],
     "language": "python",
     "metadata": {},
     "outputs": [
      {
       "output_type": "stream",
       "stream": "stdout",
       "text": [
        "Sohna Motel\n",
        "hotel arjun\n",
        "Press Colony\n",
        "Tihar Jail\n",
        "Rajdhani Enclave\n",
        "Sri ram class\n",
        "Goyal MRI & Diagnostic Centre\n",
        "Jahangirpuri\n",
        "Indraprastha\n",
        "ummeed marg\n",
        "Modinagar\n",
        "Java Training\n",
        "Shyam Vihar II\n",
        "Krypton Global Health\n",
        "Indian Bank\n",
        "GAYATRI TOUR & TRAVELS\n",
        "Sriniwaspuri\n",
        "China\n",
        "Madal Pur\n",
        "Bijwasan\n",
        "Grocery\n",
        "Not Just Paranthas\n",
        "Samash Pur Bus Stop\n",
        "Sonia Vihar\n",
        "Star Paradise\n",
        "C-9\n",
        "New Delhi City Centre\n",
        "C-7\n",
        "C-6\n",
        "C-5\n",
        "C-4\n",
        "Raja Garden\n",
        "C-2\n",
        "C-1\n",
        "Indraprastha Gas office\n",
        "Municipal Corporation of Gurgaon Executive Engineer 5\n",
        "Central Library\n",
        "Darshan's\n",
        "Press Trust of India - PTI\n",
        "Tagore Garden Extension\n",
        "Nangla Bhikoo\n",
        "HDFC\n",
        "PVR Priya\n",
        "Pkt A\n",
        "BPCL society\n",
        "South Korea\n",
        "Mukandpur\n",
        "Medisca\n",
        "Sri Ramakrishna Temple\n",
        "Dwarka Sector 13\n",
        "Dwarka Sector 12\n"
       ]
      }
     ],
     "prompt_number": 24
    },
    {
     "cell_type": "code",
     "collapsed": false,
     "input": [
      "remove_regex = re.compile(r'C-\\d+|class|Training$')"
     ],
     "language": "python",
     "metadata": {},
     "outputs": [],
     "prompt_number": 25
    },
    {
     "cell_type": "code",
     "collapsed": false,
     "input": [
      "to_remove = []\n",
      "for place in places:\n",
      "    if 'name' in places[place]:\n",
      "        if remove_regex.search(places[place]['name']):\n",
      "            to_remove.append(place)\n",
      "        \n",
      "for place_id in to_remove:\n",
      "    print places[place_id]"
     ],
     "language": "python",
     "metadata": {},
     "outputs": [
      {
       "output_type": "stream",
       "stream": "stdout",
       "text": [
        "{'lat': '28.5346411', 'place': 'locality', 'lon': '77.1483278', 'name': 'C-2'}\n",
        "{'lat': '28.5321697', 'place': 'locality', 'lon': '77.1473802', 'name': 'C-1'}\n",
        "{'lat': '28.6433758', 'lon': '77.186502', 'name': 'Sri ram class'}\n",
        "{'lat': '28.6663525', 'lon': '77.1270644', 'name': 'Java Training'}\n",
        "{'lat': '28.5394017', 'place': 'locality', 'lon': '77.1438959', 'name': 'C-9'}\n",
        "{'lat': '28.5388727', 'place': 'locality', 'lon': '77.1465314', 'name': 'C-5'}\n",
        "{'lat': '28.5340081', 'place': 'locality', 'lon': '77.150677', 'name': 'C-3'}\n",
        "{'lat': '28.5365835', 'place': 'locality', 'lon': '77.1506177', 'name': 'C-4'}\n",
        "{'lat': '28.5370778', 'place': 'locality', 'lon': '77.1458059', 'name': 'C-6'}\n",
        "{'lat': '28.5370344', 'place': 'locality', 'lon': '77.1416356', 'name': 'C-8'}\n",
        "{'lat': '28.5357424', 'place': 'locality', 'lon': '77.1448435', 'name': 'C-7'}\n"
       ]
      }
     ],
     "prompt_number": 26
    },
    {
     "cell_type": "markdown",
     "metadata": {},
     "source": [
      "The result above shows the places matched to be removed along with class and training centers."
     ]
    },
    {
     "cell_type": "markdown",
     "metadata": {},
     "source": [
      "<h4 id=\"filter_tr_class\"> Remove the places which are training centers </h4>"
     ]
    },
    {
     "cell_type": "code",
     "collapsed": false,
     "input": [
      "# Filter out places listed above\n",
      "to_remove = []\n",
      "for place in places:\n",
      "    if 'name' in places[place]:\n",
      "        if remove_regex.search(places[place]['name']):\n",
      "            to_remove.append(place)\n",
      "        \n",
      "for place_id in to_remove:\n",
      "    del places[place_id]"
     ],
     "language": "python",
     "metadata": {},
     "outputs": [],
     "prompt_number": 27
    },
    {
     "cell_type": "code",
     "collapsed": false,
     "input": [
      "display_labels('name')"
     ],
     "language": "python",
     "metadata": {},
     "outputs": [
      {
       "output_type": "stream",
       "stream": "stdout",
       "text": [
        "Sohna Motel\n",
        "hotel arjun\n",
        "Press Colony\n",
        "Tihar Jail\n",
        "Rajdhani Enclave\n",
        "Goyal MRI & Diagnostic Centre\n",
        "Jahangirpuri\n",
        "Indraprastha\n",
        "ummeed marg\n",
        "Modinagar\n",
        "Shyam Vihar II\n",
        "Krypton Global Health\n",
        "Indian Bank\n",
        "GAYATRI TOUR & TRAVELS\n",
        "Sriniwaspuri\n",
        "China\n",
        "Madal Pur\n",
        "Bijwasan\n",
        "Grocery\n",
        "Not Just Paranthas\n",
        "Samash Pur Bus Stop\n",
        "Sonia Vihar\n",
        "Star Paradise\n",
        "New Delhi City Centre\n",
        "Tomb\n",
        "Raja Garden\n",
        "Peera Garhi\n",
        "Indraprastha Gas office\n",
        "Municipal Corporation of Gurgaon Executive Engineer 5\n",
        "Central Library\n",
        "Darshan's\n",
        "Press Trust of India - PTI\n",
        "Tagore Garden Extension\n",
        "Nangla Bhikoo\n",
        "HDFC\n",
        "PVR Priya\n",
        "Pkt A\n",
        "BPCL society\n",
        "South Korea\n",
        "Mukandpur\n",
        "Medisca\n",
        "Sri Ramakrishna Temple\n",
        "Dwarka Sector 13\n",
        "Dwarka Sector 12\n",
        "Dwarka Sector 11\n",
        "Dwarka Sector 10\n",
        "Hassan Pur\n",
        "DLF Indl Area\n",
        "Nirman Vihar\n",
        "Bharat Sanchar Bhuvan - BSNL HQ\n",
        "Cinemax\n"
       ]
      }
     ],
     "prompt_number": 28
    },
    {
     "cell_type": "markdown",
     "metadata": {},
     "source": [
      "<h4 id=\"fix_spelling\"> Just by randome check: corrected spelling of hindi word \"Bhavan\" from \"Bhuvan\" </h4>"
     ]
    },
    {
     "cell_type": "code",
     "collapsed": false,
     "input": [
      "for place in places:\n",
      "    if 'name' in places[place].keys():\n",
      "        if 'Bharat Sanchar Bhuvan - BSNL HQ' in places[place]['name']:\n",
      "            print places[place]['name']\n",
      "            places[place]['name'] = places[place]['name'].replace('Bharat Sanchar Bhuvan - BSNL HQ','Bharat Sanchar Bhavan - BSNL HQ')\n",
      "            print places[place]['name']\n",
      "            "
     ],
     "language": "python",
     "metadata": {},
     "outputs": [
      {
       "output_type": "stream",
       "stream": "stdout",
       "text": [
        "Bharat Sanchar Bhuvan - BSNL HQ\n",
        "Bharat Sanchar Bhavan - BSNL HQ\n"
       ]
      }
     ],
     "prompt_number": 29
    },
    {
     "cell_type": "code",
     "collapsed": false,
     "input": [
      "#How many places we are left with\n",
      "len(places)"
     ],
     "language": "python",
     "metadata": {},
     "outputs": [
      {
       "metadata": {},
       "output_type": "pyout",
       "prompt_number": 30,
       "text": [
        "4385"
       ]
      }
     ],
     "prompt_number": 30
    },
    {
     "cell_type": "heading",
     "level": 4,
     "metadata": {},
     "source": [
      "Check for other labels: "
     ]
    },
    {
     "cell_type": "markdown",
     "metadata": {},
     "source": [
      "<h4 id=\"label_tags\">Labels like 'shop','amenity','designation','cuisine','leisure' can be merged under one generic label, let's call it 'tags' </h4>"
     ]
    },
    {
     "cell_type": "code",
     "collapsed": false,
     "input": [
      "for tags in ['shop','amenity','designation','cuisine','leisure']:\n",
      "    print \"\\n------- \" + tags.upper() + \" -------\\n\"\n",
      "    display_labels(tags)"
     ],
     "language": "python",
     "metadata": {},
     "outputs": [
      {
       "output_type": "stream",
       "stream": "stdout",
       "text": [
        "\n",
        "------- SHOP -------\n",
        "\n",
        "fashion\n",
        "bicycle\n",
        "shoes\n",
        "tea\n",
        "Vegetables\n",
        "department_store\n",
        "newsagent\n",
        "hardware\n",
        "computer\n",
        "motorcycle\n",
        "toys\n",
        "florist\n",
        "art\n",
        "yes\n",
        "gift\n",
        "car_repair\n",
        "confectionery\n",
        "jewelry\n",
        "boutique\n",
        "mall\n",
        "butcher\n",
        "sports\n",
        "bakery\n",
        "dairy\n",
        "photo\n",
        "stationery\n",
        "music\n",
        "electronics\n",
        "dry_cleaning\n",
        "General Store\n",
        "Electronics,_Travel_Agent\n",
        "mobile_phone\n",
        "laundry\n",
        "hairdresser\n",
        "shopping_centre\n",
        "beverages\n",
        "kiosk\n",
        "supermarket\n",
        "outdoor\n",
        "tailor\n",
        "handicrafts\n",
        "ticket\n",
        "furniture\n",
        "alcohol\n",
        "tyres\n",
        "grocery\n",
        "copyshop\n",
        "optician\n",
        "Milk,_Dairy_Products\n",
        "car\n",
        "seafood\n",
        "\n",
        "------- AMENITY -------\n",
        "\n",
        "taxi\n",
        "drinking_water\n",
        "marketplace\n",
        "public_building\n",
        "cinema\n",
        "recycling\n",
        "car_wash\n",
        "telephone\n",
        "library\n",
        "club\n",
        "orphanage\n",
        "clinic\n",
        "embassy\n",
        "college\n",
        "bench\n",
        "parking\n",
        "post_office\n",
        "cafe\n",
        "Suvidha Market, Netaji Nagar\n",
        "bureau_de_change\n",
        "toilets\n",
        "police\n",
        "townhall\n",
        "community_centre\n",
        "traffic education\n",
        "residential\n",
        "hospital\n",
        "veterinary\n",
        "pharmacy\n",
        "kindergarten\n",
        "shelter\n",
        "fountain\n",
        "car_rental\n",
        "arts_centre\n",
        "fuel\n",
        "Ayurvedic Hospital\n",
        "Ksan Ghat\n",
        "bicycle_parking\n",
        "fast_food\n",
        "fire_station\n",
        "theatre\n",
        "post_box\n",
        "prison\n",
        "baby_hatch\n",
        "pub\n",
        "waste_basket\n",
        "Netaji Nagar Market\n",
        "dentist\n",
        "driving_school\n",
        "doctors\n",
        "grave_yard\n",
        "\n",
        "------- DESIGNATION -------\n",
        "\n",
        "Ramesh Bidhuri"
       ]
      },
      {
       "output_type": "stream",
       "stream": "stdout",
       "text": [
        "\n",
        "Najafgarh Police Station\n",
        "ATM\n",
        "Central Park\n",
        "Beauty Parlour Parlor Salon Hair Makeup Manicure Pedicure\n",
        "Non profit organization\n",
        "cm saab\n",
        "Car Showroom\n",
        "Park\n",
        "UDSC Health Center\n",
        "Software Service\n",
        "University\n",
        "School of Planning and Architecture\n",
        "Office Building\n",
        "dwarka sec-10 new delhi\n",
        "Saramati Hostel Guest House\n",
        "Saramati PG Mens Hostel\n",
        "Mall\n",
        "JAM\n",
        "Software\n",
        "Delicatessen\n",
        "Green Park Market, Green Park, New Delhi, India\n",
        "Siraspur Fatak\n",
        "UDSC Cafeteria\n",
        "\n",
        "------- CUISINE -------\n",
        "\n",
        "chinese\n",
        "South Indian\n",
        "chicken_burger\n",
        "asian\n",
        "chicken\n",
        "coffee_shop\n",
        "afghan\n",
        "Chinese_and_North_Indian\n",
        "indian\n",
        "korean\n",
        "pizza\n",
        "sandwich\n",
        "North_Indian\n",
        "south indian\n",
        "regional\n",
        "multicuisine\n",
        "thai\n",
        "ice_cream\n",
        "Indian,Mughlai\n",
        "Chinese\n",
        "burger\n",
        "vegetarian\n",
        "Tea_and_toast\n",
        "Arabic\n",
        "\n",
        "------- LEISURE -------\n",
        "\n",
        "water_park\n",
        "golf_course\n",
        "park\n",
        "swimming_pool\n",
        "playground\n",
        "stadium\n",
        "pitch\n",
        "sports_centre\n"
       ]
      }
     ],
     "prompt_number": 31
    },
    {
     "cell_type": "code",
     "collapsed": false,
     "input": [
      "for place in places:\n",
      "    places[place]['tags'] = set()\n",
      "    for key in ['shop','amenity','designation','cuisine','leisure']:\n",
      "        if key in places[place]:\n",
      "            places[place]['tags'].add(places[place][key].replace(',','').lower().replace(' ','_'))\n",
      "\n",
      "    places[place]['tags'] = list(places[place]['tags'])"
     ],
     "language": "python",
     "metadata": {},
     "outputs": [],
     "prompt_number": 32
    },
    {
     "cell_type": "code",
     "collapsed": false,
     "input": [
      "def delete_keys(keys):\n",
      "    for place in places:\n",
      "        for key in keys:\n",
      "            if key in places[place]:\n",
      "                del places[place][key]"
     ],
     "language": "python",
     "metadata": {},
     "outputs": [],
     "prompt_number": 33
    },
    {
     "cell_type": "code",
     "collapsed": false,
     "input": [
      "delete_keys(['shop','amenity','designation','cuisine','leisure'])"
     ],
     "language": "python",
     "metadata": {},
     "outputs": [],
     "prompt_number": 34
    },
    {
     "cell_type": "code",
     "collapsed": false,
     "input": [
      "## Validate delete\n",
      "check_keys()"
     ],
     "language": "python",
     "metadata": {},
     "outputs": [
      {
       "output_type": "stream",
       "stream": "stdout",
       "text": [
        "set(['website', 'city', 'name', 'tags', 'opening_hours', 'lon', 'number', 'phone', 'note', 'religion', 'street', 'place', 'lat'])\n"
       ]
      }
     ],
     "prompt_number": 35
    },
    {
     "cell_type": "heading",
     "level": 4,
     "metadata": {},
     "source": [
      "Save Current Snapshot:"
     ]
    },
    {
     "cell_type": "code",
     "collapsed": false,
     "input": [
      "make_places_file(places)"
     ],
     "language": "python",
     "metadata": {},
     "outputs": [
      {
       "output_type": "stream",
       "stream": "stdout",
       "text": [
        "------finished----\n"
       ]
      }
     ],
     "prompt_number": 36
    },
    {
     "cell_type": "heading",
     "level": 3,
     "metadata": {},
     "source": [
      "Analyze notes and Opening Hours:"
     ]
    },
    {
     "cell_type": "code",
     "collapsed": false,
     "input": [
      "for label in ['note','opening_hours']:\n",
      "    print \"\\n------- \" + label.upper() + \" -------\\n\"\n",
      "    display_labels(label)"
     ],
     "language": "python",
     "metadata": {},
     "outputs": [
      {
       "output_type": "stream",
       "stream": "stdout",
       "text": [
        "\n",
        "------- NOTE -------\n",
        "\n",
        "Oddway International is Wholesale exporter n supplier of all life saving medication like geftinat , iressa, erlonat , sorafenat , veenat , imatinib , erlotinib , Afinitor , kamagra etc\n",
        "<h1>Area of Jurisdiction</h1> Seelampur, Gamri, Nand Nagari, Gokalpuri, Shahdara, Ashok Nagar, Khazuri Khas, Welcome Colony, Sunder Nagar, Karawal Nagar, Mansarover Park, Harsh Vihar, Bhajanpura, Seemapuri, Yamuna Vihar, G.T.B. Nagar\n",
        "Representative office of the state of Goa.\n",
        "Currently, if you are Citibank Card holder and your card has to option to waive of service charge, then this pump doesn't provide you that facility.\n",
        "This is a Corporate Advisory Firm.\n",
        "assumed fom other tags\n",
        "Came into existence in 1957 and grew parallel to the development of the Institute. Originally accommodated on the ground floor of the pre-clinical block, this library was shifted to its present premises in 1973 and was named as Dr. B.B. Dikshit Library af\n",
        "40 limit on side road\n",
        "The 3rd largest monument in Delhi. Built during the reign of Muhommad Shah Tughlaq\n",
        "IndiaMART.com is India's largest online B2B marketplace that assists manufacturers, suppliers & exporters to trade with each other at a common, reliable & transparent platform.\n",
        "fixme\n",
        "Physiotherapy, Blood Collection, GP. Dentist available\n",
        "fix this name\n",
        "Spiders Watch Technologies is a leading SEO Company India specializes in Organic SEO. Create your website Money Making Tool & enhance your online visibility.\n",
        "area really.  lanes do not matter\n",
        "Dwarka, Big heights\n",
        "power, goes to next st and stops\n",
        "Part of commercial complex\n",
        "\n",
        "------- OPENING_HOURS -------\n",
        "\n",
        "\n",
        "24Hours\n",
        "10am to 5pm sat to thur\n",
        "10:00 - 9:30\n",
        "24/7\n",
        "1000-2200\n",
        "24 Hours\n",
        "1000 to 1400 Hrs\n",
        "11.00AM to 8.30 PM\n",
        "09:0 - 17:00\n",
        "8:00-2:00\n",
        "1000 hrs to 1800 hrs Monday Closed\n",
        "Tu off\n",
        "11:00-21:30\n",
        "Mo-Fr 08:30-20:00\n",
        "sunrise-sunset\n",
        "1000-2000\n",
        "9:30 a.m to 6:30 p.m\n",
        "10-6\n",
        "Mo-Su 20:00-02:00\n"
       ]
      }
     ],
     "prompt_number": 37
    },
    {
     "cell_type": "markdown",
     "metadata": {},
     "source": [
      "We can get rid of <em>note</em> and <em>opening_hours</em> as it seems to be quite random, not necessary for our analysis."
     ]
    },
    {
     "cell_type": "code",
     "collapsed": false,
     "input": [
      "delete_keys(['note','opening_hours'])"
     ],
     "language": "python",
     "metadata": {},
     "outputs": [],
     "prompt_number": 38
    },
    {
     "cell_type": "code",
     "collapsed": false,
     "input": [
      "check_keys()"
     ],
     "language": "python",
     "metadata": {},
     "outputs": [
      {
       "output_type": "stream",
       "stream": "stdout",
       "text": [
        "set(['website', 'city', 'name', 'tags', 'lon', 'number', 'phone', 'religion', 'street', 'place', 'lat'])\n"
       ]
      }
     ],
     "prompt_number": 39
    },
    {
     "cell_type": "markdown",
     "metadata": {},
     "source": [
      "<h4 id=\"analyze_phone_numbers\">Analyze Phone Numbers: </h4>"
     ]
    },
    {
     "cell_type": "code",
     "collapsed": false,
     "input": [
      "for label in ['phone']:\n",
      "    print \"\\n------- \" + label.upper() + \" -------\\n\"\n",
      "    display_labels(label)"
     ],
     "language": "python",
     "metadata": {},
     "outputs": [
      {
       "output_type": "stream",
       "stream": "stdout",
       "text": [
        "\n",
        "------- PHONE -------\n",
        "\n",
        "9211570603\n",
        "+91 95 40 401404\n",
        "+91-120-3830000; +91-11-23582812 / 4658\n",
        "+91 11 3218206\n",
        "91-11-2687-6564\n",
        "+91 9716102442\n",
        "+919654580580\n",
        "+911141731035\n",
        "011 41541340\n",
        "9999353648\n",
        "+91 11 6626 1000\n",
        "+91-25074472-75\n",
        "9711907450\n",
        "+91 120 4288800\n",
        "+91 11 2397 5464\n",
        "9990431327\n",
        "9810657954\n",
        "+911126801804\n",
        "+91 011 22812078\n",
        "9411840569\n",
        "+91 124 4062986\n",
        "+91 011 22813475\n",
        "+91 11 3955 5000\n",
        "+91 11 23521362 , 63, 64, 65\n",
        "+911140267700\n",
        "+91 121 2760040\n",
        "01141017360\n",
        "+91-11-25437540\n",
        "01149977000\n",
        "+91-11-4157-336\n",
        "9810733602\n",
        "9717394336\n",
        "+91-120-4115588\n",
        "9899418348\n",
        "+91-120-3830000\n",
        "+91 11 42350000\n",
        "+91-11-40771234\n",
        "9720268415\n",
        "+918527205267\n",
        "+91-11-41825500\n",
        "+91-9313145699\n",
        "+91 11 2469-0077\n",
        "+91 120 4219245\n",
        "9990291418\n",
        "9999033495\n",
        "+91-9350744966\n",
        "011 42502294\n",
        "+91-8802012394\n",
        "9868813886\n",
        "9891688276\n",
        "9212070803\n"
       ]
      }
     ],
     "prompt_number": 40
    },
    {
     "cell_type": "code",
     "collapsed": false,
     "input": [
      "phone_regex = re.compile(r'^(\\+91[\\-\\s]?)?[89]\\d{9}$')\n",
      "for place in places:\n",
      "    if 'phone' in places[place]:\n",
      "        if phone_regex.match(places[place]['phone']):\n",
      "            print places[place]['phone'] + \"<-- Cell Phone \\n\"\n",
      "        else:\n",
      "            print places[place]['phone'] + \"<-- Landlines \\n\""
     ],
     "language": "python",
     "metadata": {},
     "outputs": [
      {
       "output_type": "stream",
       "stream": "stdout",
       "text": [
        "+911141731035<-- Landlines \n",
        "\n",
        "+91 11 2469-0077<-- Landlines \n",
        "\n",
        "+91-11-40771234<-- Landlines \n",
        "\n",
        "+91 9716102442<-- Cell Phone \n",
        "\n",
        "+918527205267<-- Cell Phone \n",
        "\n",
        "+91 11 23521362 , 63, 64, 65<-- Landlines \n",
        "\n",
        "+91-9873336444<-- Cell Phone \n",
        "\n",
        "9211570603<-- Cell Phone \n",
        "\n",
        "9911360600<-- Cell Phone \n",
        "\n",
        "+91 11 6626 1000<-- Landlines \n",
        "\n",
        "+91 120 4219245<-- Landlines \n",
        "\n",
        "9990536764<-- Cell Phone \n",
        "\n",
        "9718891630<-- Cell Phone \n",
        "\n",
        "01149977000<-- Landlines \n",
        "\n",
        "9411840569<-- Cell Phone \n",
        "\n",
        "+91-8802012394<-- Cell Phone \n",
        "\n",
        "+91-9873336444<-- Cell Phone \n",
        "\n",
        "9999353648<-- Cell Phone \n",
        "\n",
        "+91 124 4062986<-- Landlines \n",
        "\n",
        "9717394336<-- Cell Phone \n",
        "\n",
        "+91-9313145699<-- Cell Phone \n",
        "\n",
        "+91-11-41825500<-- Landlines \n",
        "\n",
        "+911126801804<-- Landlines \n",
        "\n",
        "+91-11-23561516<-- Landlines \n",
        "\n",
        "9850607878<-- Cell Phone \n",
        "\n",
        "+91-120-3830000; +91-11-23582812 / 4658<-- Landlines \n",
        "\n",
        "9899418348<-- Cell Phone \n",
        "\n",
        "+911140267700<-- Landlines \n",
        "\n",
        "+911141008883<-- Landlines \n",
        "\n",
        "+91-9350744966<-- Cell Phone \n",
        "\n",
        "+91 011 40556770<-- Landlines \n",
        "\n",
        "9958541435<-- Cell Phone \n",
        "\n",
        "9810657954<-- Cell Phone \n",
        "\n",
        "011 42502294<-- Landlines \n",
        "\n",
        "9868031294<-- Cell Phone \n",
        "\n",
        "9990291418<-- Cell Phone \n",
        "\n",
        "+91-25074472-75<-- Landlines \n",
        "\n",
        "9891718181<-- Cell Phone \n",
        "\n",
        "+91-11-25437540<-- Landlines \n",
        "\n",
        "9720268415<-- Cell Phone \n",
        "\n",
        "01141017360<-- Landlines \n",
        "\n",
        "9212070803<-- Cell Phone \n",
        "\n",
        "91-11-2687-6564<-- Landlines \n",
        "\n",
        "+91-11-4157-336<-- Landlines \n",
        "\n",
        "+91 11 3218206<-- Landlines \n",
        "\n",
        "9711907450<-- Cell Phone \n",
        "\n",
        "+91-120-3997600<-- Landlines \n",
        "\n",
        "+91-11-25437540<-- Landlines \n",
        "\n",
        "8665172047<-- Cell Phone \n",
        "\n",
        "+91 11 3955 5000<-- Landlines \n",
        "\n",
        "+919654580580<-- Cell Phone \n",
        "\n",
        "+91 124 4255137<-- Landlines \n",
        "\n",
        "+91 011 22812078<-- Landlines \n",
        "\n",
        "+91 11 2397 5464<-- Landlines \n",
        "\n",
        "9810733602<-- Cell Phone \n",
        "\n",
        "+91-1128088809<-- Landlines \n",
        "\n",
        "+91 121 2760040<-- Landlines \n",
        "\n",
        "9015484272<-- Cell Phone \n",
        "\n",
        "9868813886<-- Cell Phone \n",
        "\n",
        "+91 011 22813474, +91 011 22815833<-- Landlines \n",
        "\n",
        "+91 011 22813475<-- Landlines \n",
        "\n",
        "9891688276<-- Cell Phone \n",
        "\n",
        "+91-120-4115588<-- Landlines \n",
        "\n",
        "+91 120 4288800<-- Landlines \n",
        "\n",
        "9350903411<-- Cell Phone \n",
        "\n",
        "011 41541340<-- Landlines \n",
        "\n",
        "9990431327<-- Cell Phone \n",
        "\n",
        "9999033495<-- Cell Phone \n",
        "\n",
        "+91-9313145699<-- Cell Phone \n",
        "\n",
        "+91-120-3830000<-- Landlines \n",
        "\n",
        "9720268415<-- Cell Phone \n",
        "\n",
        "9720268415<-- Cell Phone \n",
        "\n",
        "+917838958988<-- Landlines \n",
        "\n",
        "+91 95 40 401404<-- Landlines \n",
        "\n",
        "+91 11 42350000<-- Landlines \n",
        "\n",
        "+91-120-3830011<-- Landlines \n",
        "\n",
        "9958905301<-- Cell Phone \n",
        "\n"
       ]
      }
     ],
     "prompt_number": 41
    },
    {
     "cell_type": "markdown",
     "metadata": {},
     "source": [
      "<h3 id=\"auditing_websites\">Audit Websites: </h3>"
     ]
    },
    {
     "cell_type": "code",
     "collapsed": false,
     "input": [
      "for label in ['website']:\n",
      "    print \"\\n------- \" + label.upper() + \" -------\\n\"\n",
      "    display_labels(label)"
     ],
     "language": "python",
     "metadata": {},
     "outputs": [
      {
       "output_type": "stream",
       "stream": "stdout",
       "text": [
        "\n",
        "------- WEBSITE -------\n",
        "\n",
        "http://www.prasad-solutions.com\n",
        "https://www.facebook.com/beauty.xpresso\n",
        "www.jiit.ac.in\n",
        "http://himsr.org/\n",
        "www.mehrasonsjewellers.com\n",
        "http://www.thedrupalpeople.com\n",
        "http://www.indusbiznotel.com\n",
        "https://highkart.com\n",
        "http://www.ideasvisible.com\n",
        "http://www.bnineteen.com\n",
        "http://www.ugc.ac.in/contactus.aspx\n",
        "bellaconstructionservices.ca\n",
        "http://cks.in/\n",
        "www.alliedindia.in\n",
        "http://www.bigheights.com\n",
        "www.south.du.ac.in\n",
        "http://www.claridges.com/index.asp\n",
        "http://www.dpsdwarka.com/\n",
        "www.pomodoro.co.in.uk\n",
        "http://competentauthoritydelhi.co.in/MonumentViewer.aspx?ID=16\n",
        "http://www.bhartiinternational.com/\n",
        "http://www.itcwelcomgroup.in/Hotels/itcmaurya.aspx\n",
        "http://www.theleela.com/locations/new-delhi\n",
        "www.abimachines.co.in\n",
        "http://www.stpaulsdiocesandelhi.in/index.php\n",
        "http://www.expedia.com\n",
        "http://www.in.emb-japan.go.jp/index.html\n",
        "http://www.ajantahotel.com\n",
        "http://http://nationalcraftsmuseum.nic.in\n",
        "http://www.indiamart.com/\n",
        "http://marutimga.cloudapp.net/idtr/Our_addresses.aspx\n",
        "http://sflc.in\n",
        "http://www.goyal-books.com\n",
        "http://www.countryinns.com/new-delhi-hotel-in-110017/inddesk\n",
        "http://www.skilldevelopment.gov.in/sites/default/files/resources/initiatives/6.3%20-%20Delhi%20Singapore.pdf\n",
        "http://www.hotelharekrishna.com/\n",
        "http://www.childrensbooktrust.com/dm.htm\n",
        "http://www.jamiahamdard.edu/index.asp\n",
        "http://www.insa.nic.in/INSAuth/Default.aspx\n",
        "www.maidenshotel.com\n",
        "http://www.bis.org.in/dir/hq.asp\n",
        "http://www.stmichaelsschoolggn.com/\n",
        "http://encypher.in/\n",
        "http://neuweg.co.in/\n",
        "http://www.bikanervala.com/family-restaurant/north-indian-cuisine.aspx/9-0-499-0\n",
        "www.hotelafricaavenue.com\n",
        "http://www.hotelperfect.co.in/\n",
        "http://www.vivantabytaj.com/Ambassador-New-Delhi/Overview.html\n",
        "http://yourwebseo.com/\n",
        "http://www.delhi.gov.in/wps/wcm/connect/doit_transport/Transport/Home/About+Us/Location+of+Zonal+Offices\n",
        "http://sarai.net/\n"
       ]
      }
     ],
     "prompt_number": 42
    },
    {
     "cell_type": "markdown",
     "metadata": {},
     "source": [
      "Few websites does not have http or https in URL, let's append http to fix them"
     ]
    },
    {
     "cell_type": "code",
     "collapsed": false,
     "input": [
      "http_regex = re.compile(r'http://|https://')\n",
      "for place in places:\n",
      "    if 'website' in places[place]:\n",
      "        if not http_regex.match(places[place]['website']):\n",
      "            places[place]['website'] = 'http://' + places[place]['website']\n",
      "            print places[place]['website']"
     ],
     "language": "python",
     "metadata": {},
     "outputs": [
      {
       "output_type": "stream",
       "stream": "stdout",
       "text": [
        "http://www.pomodoro.co.in.uk\n",
        "http://www.alliedindia.in\n",
        "http://www.mehrasonsjewellers.com\n",
        "http://www.abimachines.co.in\n",
        "http://www.hotelafricaavenue.com\n",
        "http://www.jiit.ac.in\n",
        "http://www.mehrasonsjewellers.com\n",
        "http://www.mehrasonsjewellers.com\n",
        "http://abccccc\n",
        "http://www.rollmaal.in\n",
        "http://www.mehrasonsjewellers.com\n",
        "http://www.south.du.ac.in\n",
        "http://bellaconstructionservices.ca\n",
        "http://www.maidenshotel.com\n",
        "http://www.hashbrown.in\n"
       ]
      }
     ],
     "prompt_number": 43
    },
    {
     "cell_type": "markdown",
     "metadata": {},
     "source": [
      "Somehow, http://abccccc is also a valid url though website is not hosted."
     ]
    },
    {
     "cell_type": "heading",
     "level": 3,
     "metadata": {},
     "source": [
      "Auditing Cities"
     ]
    },
    {
     "cell_type": "code",
     "collapsed": false,
     "input": [
      "for label in ['city', 'number','street', 'address']:\n",
      "    print \"\\n------- \" + label.upper() + \" -------\\n\"\n",
      "    display_labels(label)"
     ],
     "language": "python",
     "metadata": {},
     "outputs": [
      {
       "output_type": "stream",
       "stream": "stdout",
       "text": [
        "\n",
        "------- CITY -------\n",
        "\n",
        "Siraspur, Delhi\n",
        "Pratap Colony, Siraspur, Delhi\n",
        "Alipur, Delhi\n",
        "Noida (U.P)\n",
        "Shahbad Daulatpur, Delhi\n",
        "Gurgaon, Haryana\n",
        "Meerut\n",
        "new delhi\n",
        "Gurgaon\n",
        "Noida\n",
        "Naya Band, Khera\n",
        "Sector - 10, Rohini,, Delhi\n",
        "Delhi\n",
        "Faridabad\n",
        "Muradnagar\n",
        "Pitam Pura, New Delhi\n",
        "Sector - 12, Rohini, Delhi\n",
        "Uttar Pradesh\n",
        "Toronto\n",
        "Mukhrejee Nagar, Delhi\n",
        "Noida , Uttar Pradesh\n",
        "Sector-11, Rohini, Delhi\n",
        "delhi\n",
        "Sector - 5, Rohini, Delhi\n",
        "Libaspur, Delhi\n",
        "New Delhi\n",
        "West Karawal Nagar, New Delhi\n",
        "Ghaziabad\n",
        "Old Delhi\n",
        "Pandav Nagar, New Delhi\n",
        "Hira Colony, Siraspur, Delhi\n",
        "\n",
        "------- NUMBER -------\n",
        "\n",
        "Street No. 1\n",
        "132\n",
        "5A / 7\n",
        "1572-73\n",
        "11/1903,\n",
        "Sec. 31\n",
        "28\n",
        "9899712261\n",
        "A-608\n",
        "8715\n",
        "Sector 23A\n",
        "1443\n",
        "G-15\n",
        "Near RWA Office, Hira Colony, Siraspur\n",
        "B-10003, Sec 1\n",
        "Sector 3, Phase 1\n",
        "110010\n",
        "NEAR POWER HOUSE, Shahdara\n",
        "28A\n",
        "WZ 1 to 12, Uggar Sain Market\n",
        "Boys Hostel -7, AIIMS\n",
        "710\n",
        "B-1/12\n",
        "123\n",
        "Boys Hostel 7, AIIMS\n",
        "Shop No. 3, Sec 66\n",
        "179,\n",
        "valley view gurgaon\n",
        "UDSC\n",
        "Adjoining Loni Road Flyover\n",
        "21-22 Floor, Tower C\n",
        "576\n",
        "B1\n",
        "8470066637\n",
        "539\n",
        "26 A\n",
        "01294107694\n",
        "271\n",
        "703, Vikrant Tower\n",
        "276\n",
        "B-15\n",
        "1/8B\n",
        "tower 3\n",
        "K9, Food Court\n",
        "A-8\n",
        "D-231\n",
        "7\n",
        "917\n",
        "D-232,\n",
        "2,3,4\n",
        "GF-03A\n",
        "\n",
        "------- STREET -------\n",
        "\n",
        "DCE College\n",
        "Pritampura\n",
        "Sushant Lok 2\n",
        "sant kabir daas\n",
        "Dadari Road\n",
        "ansari road\n",
        "Shree Balaji Complex\n",
        "Bahadur shah Zafar Marg\n",
        "Sanjay Nagar\n",
        "Mamura, Gali No 5\n",
        "Sec-8\n",
        "Noida\n",
        "Nithnri Road\n",
        "Sector 24\n",
        "Swaroop Park\n",
        "Sadhbhawna Marg\n",
        "Amrita Shergil Lane\n",
        "Hanuman Market Harola\n",
        "Building 5, DLF City II, Sector 25\n",
        "Safdarjung Enclave\n",
        "noida\n",
        "Sujan Singh Park, Subramania Bharti Marg,Behind Khan Market\n",
        "delhi\n",
        "Saraswati Vihar\n",
        "South Extension\n",
        "janakpuri\n",
        "26 A, 2nd Floor Hauz Khas Village Road\n",
        "Janpath\n",
        "Vikas Marg\n",
        "Naoroji Nagar Market\n",
        "Mayur Vihar\n",
        "MAMURA Road\n",
        "Mathura Road\n",
        "Ganga Shopping Complex\n",
        "Sardhanand College\n",
        "Sector-29, Near Vyapar Kendra\n",
        "Main Bazaar\n",
        "Kherli Hafizpur, Noida (U.P)\n",
        "Sec - 19, Poket 3, Dwarka\n",
        "Carterpuri Village\n",
        "sector 11\n",
        "Lower Ground Floor, Sector 45\n",
        "South End Road\n",
        "DLF Phase 2\n",
        "Radial Road 6\n",
        "Birbal Road\n",
        "sector 120\n",
        "Golf course\n",
        "Ansal Majestic Tower, Vikaspuri\n",
        "Defence Colony Market\n",
        "Benito Juarez Road\n",
        "\n",
        "------- ADDRESS -------\n",
        "\n"
       ]
      }
     ],
     "prompt_number": 44
    },
    {
     "cell_type": "markdown",
     "metadata": {},
     "source": [
      "No fulll address under found under address label. \n",
      "\n",
      "Let's combine number and street in address label and city in 'city' label to form a address."
     ]
    },
    {
     "cell_type": "code",
     "collapsed": false,
     "input": [
      "delete_keys(['address'])\n",
      "check_keys()"
     ],
     "language": "python",
     "metadata": {},
     "outputs": [
      {
       "output_type": "stream",
       "stream": "stdout",
       "text": [
        "set(['website', 'city', 'name', 'tags', 'lon', 'number', 'phone', 'religion', 'street', 'place', 'lat'])\n"
       ]
      }
     ],
     "prompt_number": 49
    },
    {
     "cell_type": "markdown",
     "metadata": {},
     "source": [
      "<h4 id=\"address_label\"> Form Address:</h4>"
     ]
    },
    {
     "cell_type": "code",
     "collapsed": false,
     "input": [
      "for place in places:\n",
      "    if 'address' not in places[place].keys():\n",
      "        places[place]['address'] = \"\";\n",
      "        if 'number' in places[place].keys() and 'street' in places[place].keys():\n",
      "            places[place]['address'] = places[place]['number'] + \";  \" + places[place]['street']\n",
      "            #print \"number :-- \" +  places[place]['number'] + \"; Street :-- \" + places[place]['street']\n",
      "            del places[place]['number']\n",
      "            del places[place]['street']\n",
      "        elif 'street' in places[place].keys():\n",
      "            places[place]['address'] = places[place]['street']\n",
      "            #print \"Only Street : -- \" + places[place]['street']\n",
      "            del places[place]['street']\n",
      "            "
     ],
     "language": "python",
     "metadata": {},
     "outputs": [],
     "prompt_number": 50
    },
    {
     "cell_type": "code",
     "collapsed": false,
     "input": [
      "for label in ['address']:\n",
      "    print \"\\n------- \" + label.upper() + \" -------\\n\"\n",
      "    display_labels(label)"
     ],
     "language": "python",
     "metadata": {},
     "outputs": [
      {
       "output_type": "stream",
       "stream": "stdout",
       "text": [
        "\n",
        "------- ADDRESS -------\n",
        "\n",
        "\n",
        "DCE College\n",
        "Sushant Lok 2\n",
        "P-110/1;  Ajmal Khan Road, Karol Bagh\n",
        "Pocket B, East of Loni Road;  Wazirabad Road\n",
        "Main Bazaar\n",
        "ansari road\n",
        "271;  udhyog vihar, phase - 2, Gurgaon, Haryana\n",
        "Sector 3, Phase 1;  Dwarka\n",
        "Sanjay Nagar\n",
        "Mamura, Gali No 5\n",
        "1443;  Lower Ground Floor, Sector 45\n",
        "A-Block-4;  Meera Bagh\n",
        "Mangal Bazar;  Vikas Marg\n",
        "276;  Ganga Shopping Complex\n",
        "Adjoining Loni Road Flyover;  Wazirabad Road\n",
        "Sector 24\n",
        "28;  Arakshan Road\n",
        "Swaroop Park\n",
        "B-6, 3rd Floor,;  Sector-64,\n",
        "Sadhbhawna Marg\n",
        "5084;  Main Bazaar\n",
        "swami Narayan Marg, Ashok vihar\n",
        "710;  S1\n",
        "CD 92-A;  Pritampura\n",
        "Sujan Singh Park, Subramania Bharti Marg,Behind Khan Market\n",
        "5A / 7;  5a , Ansari Road\n",
        "B-15;  Vasundhara Enclave\n",
        "917;  Gali Chandi Wali\n",
        "207/15;  prakash mohalla\n",
        "123;  Netaji Subhash Chandra Bose Road\n",
        "01128520912;  Pankha Road\n",
        "F-29;  Central Market, Sector 50\n",
        "2,3,4;  Khari Baoli Road\n",
        "Shankar Road\n",
        "Street No. 1;  Sector NO. 22, nr A- 126\n",
        "South Extension\n",
        "Naoroji Nagar Market\n",
        "Sector-29, Near Vyapar Kendra\n",
        "Sardhanand College\n",
        "11/1903,;  Chuna Mandi, Paharganj\n",
        "HU -11 DDA;  Complex Pitampura\n",
        "Kherli Hafizpur, Noida (U.P)\n",
        "11 - 12;  Hudson Lines, Kingsway Camp\n",
        "B-1/12;  Safdarjung Enclave\n",
        "G-241;  Sector 63\n",
        "68;  Janpath\n",
        "Sec 49;  Dadari Road\n",
        "sector 11\n",
        "1457;  Chandni Chowk\n",
        "South End Road\n"
       ]
      }
     ],
     "prompt_number": 51
    },
    {
     "cell_type": "code",
     "collapsed": false,
     "input": [
      "final_places = []\n",
      "for place in places:\n",
      "    final_places.append(places[place])"
     ],
     "language": "python",
     "metadata": {},
     "outputs": [],
     "prompt_number": 52
    },
    {
     "cell_type": "markdown",
     "metadata": {},
     "source": [
      "check New list:"
     ]
    },
    {
     "cell_type": "code",
     "collapsed": false,
     "input": [
      "final_places[30:40]\n",
      "#len(final_places)"
     ],
     "language": "python",
     "metadata": {},
     "outputs": [
      {
       "metadata": {},
       "output_type": "pyout",
       "prompt_number": 59,
       "text": [
        "[{'address': '',\n",
        "  'city': 'Delhi',\n",
        "  'lat': '28.5975656',\n",
        "  'lon': '77.2949976',\n",
        "  'name': 'Arora Pharmacy',\n",
        "  'tags': ['pharmacy']},\n",
        " {'address': '',\n",
        "  'lat': '28.5897766',\n",
        "  'lon': '77.0660291',\n",
        "  'name': 'Prakriti Apts',\n",
        "  'tags': []},\n",
        " {'address': '',\n",
        "  'lat': '28.5669263',\n",
        "  'lon': '77.2679745',\n",
        "  'name': 'HDFC Bank',\n",
        "  'tags': ['bank']},\n",
        " {'address': '',\n",
        "  'lat': '28.6438531',\n",
        "  'lon': '77.3170505',\n",
        "  'name': 'Indian Oil Petrol Pump',\n",
        "  'tags': ['fuel']},\n",
        " {'address': '', 'lat': '28.6175179', 'lon': '76.9841071', 'tags': ['cafe']},\n",
        " {'address': '',\n",
        "  'lat': '28.6172259',\n",
        "  'lon': '76.9838631',\n",
        "  'tags': ['drinking_water']},\n",
        " {'address': '',\n",
        "  'lat': '28.6170022',\n",
        "  'lon': '76.9843137',\n",
        "  'tags': ['telephone']},\n",
        " {'address': '',\n",
        "  'lat': '28.4528158',\n",
        "  'lon': '77.050185',\n",
        "  'name': 'Reliance fresh',\n",
        "  'tags': ['supermarket']},\n",
        " {'address': '',\n",
        "  'lat': '28.7255305',\n",
        "  'lon': '77.114259',\n",
        "  'name': 'Unitech Adventure Island',\n",
        "  'tags': []},\n",
        " {'address': '',\n",
        "  'lat': '28.5722093',\n",
        "  'lon': '77.1661801',\n",
        "  'name': 'Sector 8',\n",
        "  'place': 'locality',\n",
        "  'tags': []}]"
       ]
      }
     ],
     "prompt_number": 59
    },
    {
     "cell_type": "code",
     "collapsed": false,
     "input": [
      "make_places_file(final_places)"
     ],
     "language": "python",
     "metadata": {},
     "outputs": [
      {
       "output_type": "stream",
       "stream": "stdout",
       "text": [
        "------finished----\n"
       ]
      }
     ],
     "prompt_number": 60
    },
    {
     "cell_type": "heading",
     "level": 5,
     "metadata": {},
     "source": [
      "Imported Documents into MongoDB Collection using mongoimport bulk import utility"
     ]
    },
    {
     "cell_type": "markdown",
     "metadata": {},
     "source": [
      "[cloudera@localhost bin]$ ./mongoimport --db osm_delhi --collection places --file /home/cloudera/Downloads/pythoncode/datawrang/places.json --jsonArray\n",
      "2015-05-03T20:53:18.359-0400\tconnected to: localhost\n",
      "2015-05-03T20:53:21.289-0400\t[########################] osm_delhi.places\t618.1 KB/618.1 KB (100.0%)\n",
      "2015-05-03T20:53:22.186-0400\timported 4385 documents"
     ]
    },
    {
     "cell_type": "markdown",
     "metadata": {},
     "source": [
      "To use pymongo for querying:"
     ]
    },
    {
     "cell_type": "code",
     "collapsed": false,
     "input": [
      "from pymongo import MongoClient"
     ],
     "language": "python",
     "metadata": {},
     "outputs": [],
     "prompt_number": 61
    },
    {
     "cell_type": "code",
     "collapsed": false,
     "input": [
      "client = MongoClient('localhost:27017')\n",
      "db = client.osm_delhi\n",
      "db.places.find_one()"
     ],
     "language": "python",
     "metadata": {},
     "outputs": [
      {
       "metadata": {},
       "output_type": "pyout",
       "prompt_number": 72,
       "text": [
        "{u'_id': ObjectId('5546c30124f6cfba3052277b'),\n",
        " u'address': u'',\n",
        " u'lat': u'28.5335404',\n",
        " u'lon': u'77.1064612',\n",
        " u'tags': [u'fuel']}"
       ]
      }
     ],
     "prompt_number": 72
    },
    {
     "cell_type": "code",
     "collapsed": false,
     "input": [
      "def aggregate(pipeline):\n",
      "    return db.places.aggregate(pipeline)"
     ],
     "language": "python",
     "metadata": {},
     "outputs": [],
     "prompt_number": 73
    },
    {
     "cell_type": "markdown",
     "metadata": {},
     "source": [
      "Let's see number of places without an address i.e. without street or house number:"
     ]
    },
    {
     "cell_type": "code",
     "collapsed": false,
     "input": [
      "total_num_places = db.places.count()\n",
      "\n",
      "query_pipeline = {\"$match\" : {\"address\" : ''}}\n",
      "num_places_without_address = aggregate(query_pipeline)\n",
      "\n",
      "print \"Total number of places : {0}\".format(total_num_places)\n",
      "print \"Number of places without address : {0}\".format(len(num_places_without_address['result']))\n"
     ],
     "language": "python",
     "metadata": {},
     "outputs": [
      {
       "output_type": "stream",
       "stream": "stdout",
       "text": [
        "Total number of places : 4385\n",
        "Number of places without address : 4207\n"
       ]
      }
     ],
     "prompt_number": 81
    },
    {
     "cell_type": "markdown",
     "metadata": {},
     "source": [
      "Very few entries which are with address in our list."
     ]
    },
    {
     "cell_type": "markdown",
     "metadata": {},
     "source": [
      "<h5 id=\"name_nonames\">Number of places with no names:</h5>"
     ]
    },
    {
     "cell_type": "code",
     "collapsed": false,
     "input": [
      "total_num_places = db.places.count()\n",
      "\n",
      "query_pipeline = {\"$match\" : {\"name\" : None}}\n",
      "num_places_without_name = aggregate(query_pipeline)\n",
      "\n",
      "print \"Total number of places : {0}\".format(total_num_places)\n",
      "print \"Number of places without Name : {0}\".format(len(num_places_without_name['result']))\n"
     ],
     "language": "python",
     "metadata": {},
     "outputs": [
      {
       "output_type": "stream",
       "stream": "stdout",
       "text": [
        "Total number of places : 4385\n",
        "Number of places without Name : 666\n"
       ]
      }
     ],
     "prompt_number": 104
    },
    {
     "cell_type": "markdown",
     "metadata": {},
     "source": [
      "This is not too bad.."
     ]
    },
    {
     "cell_type": "heading",
     "level": 6,
     "metadata": {},
     "source": [
      "Let's check what are the tags associated with these places with no names:"
     ]
    },
    {
     "cell_type": "code",
     "collapsed": false,
     "input": [
      "pipeline = [{\"$match\" : {\"name\" : None}},\n",
      "            {\"$unwind\" : \"$tags\"},\n",
      "            {\"$group\" : {\"_id\" : \"$tags\",\n",
      "                         \"count\" : {\"$sum\" : 1}}},\n",
      "            {\"$sort\" : {\"count\" : -1}}]\n",
      "results = aggregate(pipeline)\n",
      "results"
     ],
     "language": "python",
     "metadata": {},
     "outputs": [
      {
       "metadata": {},
       "output_type": "pyout",
       "prompt_number": 114,
       "text": [
        "{u'ok': 1.0,\n",
        " u'result': [{u'_id': u'fuel', u'count': 107},\n",
        "  {u'_id': u'atm', u'count': 66},\n",
        "  {u'_id': u'parking', u'count': 66},\n",
        "  {u'_id': u'place_of_worship', u'count': 32},\n",
        "  {u'_id': u'pharmacy', u'count': 32},\n",
        "  {u'_id': u'toilets', u'count': 25},\n",
        "  {u'_id': u'fountain', u'count': 17},\n",
        "  {u'_id': u'restaurant', u'count': 16},\n",
        "  {u'_id': u'post_box', u'count': 14},\n",
        "  {u'_id': u'clothes', u'count': 13},\n",
        "  {u'_id': u'fast_food', u'count': 12},\n",
        "  {u'_id': u'alcohol', u'count': 12},\n",
        "  {u'_id': u'pitch', u'count': 11},\n",
        "  {u'_id': u'taxi', u'count': 10},\n",
        "  {u'_id': u'police', u'count': 9},\n",
        "  {u'_id': u'cafe', u'count': 9},\n",
        "  {u'_id': u'supermarket', u'count': 8},\n",
        "  {u'_id': u'park', u'count': 8},\n",
        "  {u'_id': u'post_office', u'count': 7},\n",
        "  {u'_id': u'bank', u'count': 7},\n",
        "  {u'_id': u'jewelry', u'count': 7},\n",
        "  {u'_id': u'telephone', u'count': 7},\n",
        "  {u'_id': u'books', u'count': 6},\n",
        "  {u'_id': u'bench', u'count': 6},\n",
        "  {u'_id': u'playground', u'count': 6},\n",
        "  {u'_id': u'fire_station', u'count': 6},\n",
        "  {u'_id': u'hairdresser', u'count': 6},\n",
        "  {u'_id': u'marketplace', u'count': 6},\n",
        "  {u'_id': u'convenience', u'count': 6},\n",
        "  {u'_id': u'school', u'count': 6},\n",
        "  {u'_id': u'toys', u'count': 6},\n",
        "  {u'_id': u'waste_basket', u'count': 5},\n",
        "  {u'_id': u'mobile_phone', u'count': 5},\n",
        "  {u'_id': u'car_repair', u'count': 5},\n",
        "  {u'_id': u'parking_space', u'count': 5},\n",
        "  {u'_id': u'hospital', u'count': 5},\n",
        "  {u'_id': u'bus_station', u'count': 4},\n",
        "  {u'_id': u'library', u'count': 4},\n",
        "  {u'_id': u'butcher', u'count': 3},\n",
        "  {u'_id': u'cinema', u'count': 3},\n",
        "  {u'_id': u'bakery', u'count': 3},\n",
        "  {u'_id': u'sports_centre', u'count': 3},\n",
        "  {u'_id': u'doctors', u'count': 3},\n",
        "  {u'_id': u'laundry', u'count': 3},\n",
        "  {u'_id': u'florist', u'count': 3},\n",
        "  {u'_id': u'swimming_pool', u'count': 3},\n",
        "  {u'_id': u'kindergarten', u'count': 2},\n",
        "  {u'_id': u'public_building', u'count': 2},\n",
        "  {u'_id': u'stationery', u'count': 2},\n",
        "  {u'_id': u'kiosk', u'count': 2},\n",
        "  {u'_id': u'coffee_shop', u'count': 2},\n",
        "  {u'_id': u'dry_cleaning', u'count': 2},\n",
        "  {u'_id': u'dentist', u'count': 2},\n",
        "  {u'_id': u'gift', u'count': 2},\n",
        "  {u'_id': u'car_rental', u'count': 2},\n",
        "  {u'_id': u'indian', u'count': 2},\n",
        "  {u'_id': u'community_centre', u'count': 2},\n",
        "  {u'_id': u'music', u'count': 2},\n",
        "  {u'_id': u'bicycle', u'count': 2},\n",
        "  {u'_id': u'drinking_water', u'count': 2},\n",
        "  {u'_id': u'greengrocer', u'count': 2},\n",
        "  {u'_id': u'pub', u'count': 1},\n",
        "  {u'_id': u'interior_decoration', u'count': 1},\n",
        "  {u'_id': u'netaji_nagar_market', u'count': 1},\n",
        "  {u'_id': u'motorcycle', u'count': 1},\n",
        "  {u'_id': u'grave_yard', u'count': 1},\n",
        "  {u'_id': u'furniture', u'count': 1},\n",
        "  {u'_id': u'department_store', u'count': 1},\n",
        "  {u'_id': u'tyres', u'count': 1},\n",
        "  {u'_id': u'suvidha_market_netaji_nagar', u'count': 1},\n",
        "  {u'_id': u'townhall', u'count': 1},\n",
        "  {u'_id': u'najafgarh_police_station', u'count': 1},\n",
        "  {u'_id': u'mall', u'count': 1},\n",
        "  {u'_id': u'regional', u'count': 1},\n",
        "  {u'_id': u'baby_hatch', u'count': 1},\n",
        "  {u'_id': u'optician', u'count': 1},\n",
        "  {u'_id': u'ticket', u'count': 1},\n",
        "  {u'_id': u'veterinary', u'count': 1},\n",
        "  {u'_id': u'arts_centre', u'count': 1},\n",
        "  {u'_id': u'garbage_collection_units', u'count': 1},\n",
        "  {u'_id': u'theatre', u'count': 1},\n",
        "  {u'_id': u'art', u'count': 1},\n",
        "  {u'_id': u'parking_entrance', u'count': 1},\n",
        "  {u'_id': u'computer', u'count': 1},\n",
        "  {u'_id': u'clinic', u'count': 1},\n",
        "  {u'_id': u'chemist', u'count': 1},\n",
        "  {u'_id': u'grocery', u'count': 1},\n",
        "  {u'_id': u'ksan_ghat', u'count': 1},\n",
        "  {u'_id': u'central_park', u'count': 1},\n",
        "  {u'_id': u'recycling', u'count': 1},\n",
        "  {u'_id': u'multicuisine', u'count': 1},\n",
        "  {u'_id': u'copyshop', u'count': 1},\n",
        "  {u'_id': u'chinese', u'count': 1},\n",
        "  {u'_id': u'electronics', u'count': 1},\n",
        "  {u'_id': u'photo', u'count': 1}]}"
       ]
      }
     ],
     "prompt_number": 114
    },
    {
     "cell_type": "markdown",
     "metadata": {},
     "source": [
      "These are mostly places like fuel stations, ATM's, police stations etc."
     ]
    },
    {
     "cell_type": "markdown",
     "metadata": {},
     "source": [
      "<h5 id = \"num_schools\">Let's check the number of schools in our list:</h5>"
     ]
    },
    {
     "cell_type": "code",
     "collapsed": false,
     "input": [
      "total_num_places = db.places.count()\n",
      "\n",
      "query_pipeline = {\"$match\" : {\"tags\" : 'school'}}\n",
      "num_places = aggregate(query_pipeline)\n",
      "\n",
      "print \"Total number of places : {0}\".format(total_num_places)\n",
      "print \"Number of schools : {0}\".format(len(num_places['result']))"
     ],
     "language": "python",
     "metadata": {},
     "outputs": [
      {
       "output_type": "stream",
       "stream": "stdout",
       "text": [
        "Total number of places : 4385\n",
        "Number of schools : 121\n"
       ]
      }
     ],
     "prompt_number": 86
    },
    {
     "cell_type": "markdown",
     "metadata": {},
     "source": [
      "<h5 id=\"schools_or_college\"> Let see total number of school and colleges, using \"OR\" in the query pipeline:</h5>"
     ]
    },
    {
     "cell_type": "code",
     "collapsed": false,
     "input": [
      "total_num_places = db.places.count()\n",
      "\n",
      "query_pipeline = {\"$match\" : {\"$or\":[{\"tags\":'school'},{\"tags\":'college'}]}}\n",
      "num_places = aggregate(query_pipeline)\n",
      "\n",
      "print \"Total number of places : {0}\".format(total_num_places)\n",
      "print \"Number of schools and colleges : {0}\".format(len(num_places['result']))"
     ],
     "language": "python",
     "metadata": {},
     "outputs": [
      {
       "output_type": "stream",
       "stream": "stdout",
       "text": [
        "Total number of places : 4385\n",
        "Number of schools : 142\n"
       ]
      }
     ],
     "prompt_number": 99
    },
    {
     "cell_type": "markdown",
     "metadata": {},
     "source": [
      "<h5 id=\"most_common\">In our list, Let's check the most common place :</h5>"
     ]
    },
    {
     "cell_type": "code",
     "collapsed": false,
     "input": [
      "query_pipeline = [{\"$group\" : {\"_id\" : \"$name\",\n",
      "                             \"count\" : {\"$sum\" : 1}}},\n",
      "                {\"$match\" : {\"_id\" : {\"$ne\" : None}}},\n",
      "                {\"$sort\" : { \"count\" : -1}},\n",
      "                {\"$limit\" : 1}]\n",
      "results = aggregate(query_pipeline)\n",
      "import pprint\n",
      "pprint.pprint(results[\"result\"][0])"
     ],
     "language": "python",
     "metadata": {},
     "outputs": [
      {
       "output_type": "stream",
       "stream": "stdout",
       "text": [
        "{u'_id': u'Indian Oil', u'count': 19}\n"
       ]
      }
     ],
     "prompt_number": 100
    },
    {
     "cell_type": "markdown",
     "metadata": {},
     "source": [
      "It seems to be \"Indian Oil\" fuel station. "
     ]
    },
    {
     "cell_type": "markdown",
     "metadata": {},
     "source": [
      "<h5 id=\"cafes_rest\">Check out the number of cafe's and restaurants:</h5>"
     ]
    },
    {
     "cell_type": "code",
     "collapsed": false,
     "input": [
      "total_num_places = db.places.count()\n",
      "\n",
      "query_pipeline = {\"$match\" : {\"$or\":[{\"tags\":'cafe'},{\"tags\":'restaurant'}]}}\n",
      "num_places = aggregate(query_pipeline)\n",
      "\n",
      "print \"Total number of places : {0}\".format(total_num_places)\n",
      "print \"Number of Cafe's and restaurants : {0}\".format(len(num_places['result']))"
     ],
     "language": "python",
     "metadata": {},
     "outputs": [
      {
       "output_type": "stream",
       "stream": "stdout",
       "text": [
        "Total number of places : 4385\n",
        "Number of Cafe's and restaurants : 153\n"
       ]
      }
     ],
     "prompt_number": 102
    }
   ],
   "metadata": {}
  }
 ]
}