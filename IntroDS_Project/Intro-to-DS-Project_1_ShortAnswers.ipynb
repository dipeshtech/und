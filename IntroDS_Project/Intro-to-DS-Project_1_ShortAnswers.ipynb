{
 "metadata": {
  "name": "",
  "signature": "sha256:687b2c6e0491a13d6ff5286461f4b3fac31e3f9ae0f2c45930f789c384d80a0a"
 },
 "nbformat": 3,
 "nbformat_minor": 0,
 "worksheets": [
  {
   "cells": [
    {
     "cell_type": "markdown",
     "metadata": {},
     "source": [
      "<h2> Intro to Data Science: Final Project (Part 2) </h2> \n",
      "\n",
      "<h3> Analyzing the NYC Subway Dataset </h3> \n",
      "\n",
      "<h4> Answers to Short Questions </h4>\n",
      "\n",
      "Dipesh Kumar Singh\n"
     ]
    },
    {
     "cell_type": "markdown",
     "metadata": {},
     "source": [
      "</br>"
     ]
    },
    {
     "cell_type": "heading",
     "level": 2,
     "metadata": {},
     "source": [
      "Section 1. Statistical Test"
     ]
    },
    {
     "cell_type": "heading",
     "level": 3,
     "metadata": {},
     "source": [
      "1.1.a Which statistical test did you use to analyse the NYC subway data?"
     ]
    },
    {
     "cell_type": "markdown",
     "metadata": {},
     "source": [
      "MannWhitney U test was used to analyse, if there was a statistically significant difference in ridership between rainy and non-rainy days. "
     ]
    },
    {
     "cell_type": "heading",
     "level": 3,
     "metadata": {},
     "source": [
      "1.2.b Did you use a one-tail or a two-tail P value?"
     ]
    },
    {
     "cell_type": "markdown",
     "metadata": {},
     "source": [
      "The two-tailed p-value test was used to identify whether or not there is a statistically significant difference between the populations (but not to determine whether one population has greater statistical significance than another).\n"
     ]
    },
    {
     "cell_type": "heading",
     "level": 3,
     "metadata": {},
     "source": [
      "1.1.c What is the null hypothesis?"
     ]
    },
    {
     "cell_type": "markdown",
     "metadata": {},
     "source": [
      "The null hypothesis is that the distributions of two populations are the same.\n",
      "i.e. muRain \u2013 muNoRain = 0\n",
      "<p> \n",
      "In other words, There is no significant difference in ridership on rainy days vs non-rainy days.</p>"
     ]
    },
    {
     "cell_type": "heading",
     "level": 3,
     "metadata": {},
     "source": [
      "1.1.d What is your p-critical value?"
     ]
    },
    {
     "cell_type": "markdown",
     "metadata": {},
     "source": [
      "$p \\leq 0.05$"
     ]
    },
    {
     "cell_type": "heading",
     "level": 3,
     "metadata": {},
     "source": [
      "1.2 Why is this statistical test applicable to the dataset?"
     ]
    },
    {
     "cell_type": "markdown",
     "metadata": {},
     "source": [
      "As the population in the given dataset does not follow normal distribution, hence in\n",
      "this case data from two independent samples fail to meet the requirement of underlying normal\n",
      "distribution, it can be considered that the distribution is unknown which matches with the criteria of\n",
      "non-parametric test such as MannWhitney U test.\n",
      "\n",
      "With reference to plot obtained in section 3.1 of Intro to Data Science class, the histogram clearly\n",
      "indicates that distribution is not normal.\n",
      "\n"
     ]
    },
    {
     "cell_type": "markdown",
     "metadata": {},
     "source": [
      "**More Details : **\n",
      "<a href=\"Analysis_Supplement_IntroToDS.ipynb#1_2\"> Shows Shapiro-wilk test and histogram  to describe visual apparent conclusions <a>\n"
     ]
    },
    {
     "cell_type": "heading",
     "level": 3,
     "metadata": {},
     "source": [
      "1.3 What results did you get from this statistical test?"
     ]
    },
    {
     "cell_type": "markdown",
     "metadata": {},
     "source": [
      "<td> Rain group mean ridership : 2028.1960 </td>\n",
      "<td> No-rain group mean ridership : 1845.5394 </td>\n",
      "<td> p-value : 0.00000274106957124 * 2 </td>\n"
     ]
    },
    {
     "cell_type": "markdown",
     "metadata": {},
     "source": [
      "**More Details :** See <a href=\"Analysis_Supplement_IntroToDS.ipynb#mann_u\">here<a>"
     ]
    },
    {
     "cell_type": "heading",
     "level": 3,
     "metadata": {},
     "source": [
      "1.4 What is the significance and interpretation of these results?"
     ]
    },
    {
     "cell_type": "markdown",
     "metadata": {},
     "source": [
      "<p>The difference between ridership in rainy and non-rainy days is statistically significant as the p-value is less than 0.05 i.e. p-critical\n",
      "alpha value. Hence, we can reject the\n",
      "null hypothesis.</p>\n",
      "\n",
      "<p>\n",
      "The low p-values to reject the null hypothesis of Mann-Whitney U test are obtained only on large sample sizes (>2K) of each population.\n",
      "</p>\n",
      "\n",
      "<p>\n",
      "Accordig to the results from Mannwhitney u test, It appears that there is statistically significant difference in both the groups. Though, practical significance cannot be confirmed from these results. \n",
      "</p>"
     ]
    },
    {
     "cell_type": "markdown",
     "metadata": {},
     "source": [
      "**More Details :** See <a href=\"Analysis_Supplement_IntroToDS.ipynb#average_p_various_samples\">here</a>"
     ]
    },
    {
     "cell_type": "heading",
     "level": 2,
     "metadata": {},
     "source": [
      "Section 2. Linear Regression"
     ]
    },
    {
     "cell_type": "heading",
     "level": 3,
     "metadata": {},
     "source": [
      "2.1 What approach did you use to compute the coefficients theta and produce prediction for ENTRIESn_hourly in your regression model?"
     ]
    },
    {
     "cell_type": "markdown",
     "metadata": {},
     "source": [
      "Ordinary least squares (OLS) was used, using Statsmodel API for all the computations.\n",
      "\n",
      "The coefficient of determination ($r^2$),can take on values : $0 \\leq R^{2} \\leq 1$. If $R^{2} = 0$, the regressors have no explainatory value. If $R^2$ =1, the regressor line is perfect fit explaining 100% of the variation in the response variable."
     ]
    },
    {
     "cell_type": "heading",
     "level": 3,
     "metadata": {},
     "source": [
      "2.2 What features (input variables) did you use in your model? Did you use any dummy variables as part of your features?"
     ]
    },
    {
     "cell_type": "markdown",
     "metadata": {},
     "source": [
      "The features (input variables X) are: hour, weekday, rain, fog, tempi  \n",
      "\n",
      "Dummy variables - station & UNIT (To study grouping effect in regression. Actually various instances of\n",
      "these 2 categorical variables are dummy variables)\n"
     ]
    },
    {
     "cell_type": "heading",
     "level": 3,
     "metadata": {},
     "source": [
      "2.3 Why did you select these features in your model?"
     ]
    },
    {
     "cell_type": "markdown",
     "metadata": {},
     "source": [
      "**hour** was chosen because it was highly linearly correlated with y (ENTRIESn_hourly) relative to the other\n",
      "features and intuitively because ridership would more likely vary based on the time of day as more people\n",
      "would probably ride subway in rush hours.  \n",
      "\n",
      "**weekday** was chosen because of higher ridership on the weekdays with respect to weekends when more people commute for work to NYC.\n",
      "\n",
      "**rain** and **fog** was chosen because it is expected that people would ride the subway more during bad weather\n",
      "conditions instead of walking outside. Same with **tempi** it would be expected that people prefer to walk\n",
      "outside during the summer when the temperature is higher. However, after computing R-square using\n",
      "different variables, it was noticed that these three variables did not contribute much increase in the predictive\n",
      "power of the model as R-square did not show significant improvement when included into the model.\n",
      "  \n",
      "    \n",
      "**station** and **units** was chosen as dummy variables because more busy stations and units would be expected\n",
      "to have more riders as opposed to smaller stations or units.\n",
      "\n",
      "\n"
     ]
    },
    {
     "cell_type": "markdown",
     "metadata": {},
     "source": [
      "**More Details :** See <a href=\"Analysis_Supplement_IntroToDS.ipynb#exploratory_analysis\">here</a>"
     ]
    },
    {
     "cell_type": "heading",
     "level": 3,
     "metadata": {},
     "source": [
      "2.4 What are the coefficients (or weights) of the features in your linear regression model?"
     ]
    },
    {
     "cell_type": "markdown",
     "metadata": {},
     "source": [
      "hour = 122.5560 ; weekday = 971.7047 ;\n",
      "rain = 76.5961 ; fog = -594.2639 ;\n",
      "tempi = 3.4603\n"
     ]
    },
    {
     "cell_type": "markdown",
     "metadata": {},
     "source": [
      "**More Details : **<a href=\"Analysis_Supplement_IntroToDS.ipynb#OLS_coeff\">here</a>\n"
     ]
    },
    {
     "cell_type": "heading",
     "level": 3,
     "metadata": {},
     "source": [
      "2.5 What is your model\u2019s $R^2$ (coefficient of determination) value?"
     ]
    },
    {
     "cell_type": "markdown",
     "metadata": {},
     "source": [
      "$R^2$ = 0.63"
     ]
    },
    {
     "cell_type": "markdown",
     "metadata": {},
     "source": [
      "**More Details :** <a href=\"Analysis_Supplement_IntroToDS.ipynb#OLS_r2\">here</a>"
     ]
    },
    {
     "cell_type": "heading",
     "level": 3,
     "metadata": {},
     "source": [
      "2.6.a What does this $R^2$ value mean for the goodness of fit for your regression model?"
     ]
    },
    {
     "cell_type": "markdown",
     "metadata": {},
     "source": [
      "The $R^2$ value means that 63% of total variation in the dependent variable ENTRIESn_hourly is explained by the least-squares regression model.\n"
     ]
    },
    {
     "cell_type": "heading",
     "level": 3,
     "metadata": {},
     "source": [
      "2.6.b Do you think\n",
      "this linear model to predict ridership is appropriate for this dataset, given this $R^2$ value?\n"
     ]
    },
    {
     "cell_type": "markdown",
     "metadata": {},
     "source": [
      "It can definitely help make a guess, but to much shouldn't be relied on its predictions."
     ]
    },
    {
     "cell_type": "markdown",
     "metadata": {},
     "source": [
      "Additional Details : <a href=\"Analysis_Supplement_IntroToDS.ipynb#Residuals\">Residual plots etc </a>"
     ]
    },
    {
     "cell_type": "heading",
     "level": 2,
     "metadata": {},
     "source": [
      "Section 3. Visualization"
     ]
    },
    {
     "cell_type": "heading",
     "level": 3,
     "metadata": {},
     "source": [
      "3.1 One visualization should contain two histograms: one of ENTRIESn_hourly for rainy days and one of ENTRIESn_hourly for non-rainy days"
     ]
    },
    {
     "cell_type": "code",
     "collapsed": false,
     "input": [
      "import numpy as np\n",
      "import pandas as pd\n",
      "import scipy as sp\n",
      "import scipy.stats as st\n",
      "import statsmodels.api as sm\n",
      "import scipy.optimize as op\n",
      "\n",
      "\n",
      "import matplotlib.pyplot as plt\n",
      "%matplotlib inline\n",
      "\n",
      "df = pd.read_csv(\"turnstile_weather_v2.csv\")\n",
      "rain_days = df[df['rain'] == 1]\n",
      "no_rain_days = df[df['rain'] == 0]\n",
      "no_rain_days['ENTRIESn_hourly'].plot(kind='hist', bins=20, alpha=0.5, color='green')\n",
      "rain_days['ENTRIESn_hourly'].plot(kind='hist', bins=18, alpha=0.7, color='blue')\n",
      "plt.title('ENTRIESn_hourly HISTOGRAM (RAIN vs NO-RAIN)')\n",
      "plt.xlabel('ENTRIESn_hourly')\n",
      "plt.ylabel('frequency')\n",
      "plt.xlim(0, 15000)\n",
      "plt.legend(['no rain', 'rain'])\n",
      "plt.show()\n",
      "    "
     ],
     "language": "python",
     "metadata": {},
     "outputs": [
      {
       "metadata": {},
       "output_type": "display_data",
       "png": "[encoded data removed]",
       "text": [
        "<matplotlib.figure.Figure at 0x7feab40e5090>"
       ]
      }
     ],
     "prompt_number": 9
    },
    {
     "cell_type": "markdown",
     "metadata": {},
     "source": [
      "Around 75% of the data set is collected from non-rainy days.\n"
     ]
    },
    {
     "cell_type": "heading",
     "level": 3,
     "metadata": {},
     "source": [
      "3.2 One visualization can be more freeform"
     ]
    },
    {
     "cell_type": "markdown",
     "metadata": {},
     "source": [
      "\n",
      "<img src=\"ridership_by_weekday.png\">"
     ]
    },
    {
     "cell_type": "markdown",
     "metadata": {},
     "source": [
      "weekdays are indicated as : 0: Mon, 1: Tue, 2: Wed, 3: Thu, 4: Fri, 5: Sat, 6: Sun  \n",
      "\n",
      "Busiest weekday is: Tuesday                              "
     ]
    },
    {
     "cell_type": "markdown",
     "metadata": {},
     "source": [
      "Additional Details:  <a href=\"Analysis_Supplement_IntroToDS.ipynb#Ridership-by-day-of-week\">here</a> and <a href=\"Analysis_Supplement_IntroToDS.ipynb#Ridership-by-Time-of-the-Day\">here</a>"
     ]
    },
    {
     "cell_type": "heading",
     "level": 2,
     "metadata": {},
     "source": [
      "Section 4. Conclusion"
     ]
    },
    {
     "cell_type": "heading",
     "level": 3,
     "metadata": {},
     "source": [
      "4.1 From your analysis and interpretation of the data, do more people ride the NYC subway when it is raining or when it is not raining?"
     ]
    },
    {
     "cell_type": "markdown",
     "metadata": {},
     "source": [
      "<p>\n",
      "From analysis and interpretation on the given dataset, we can say that more people ride NYC subway when it\u2019s raining. For a generalize comment, further analysis is required on complete dataset of all round the year.\n",
      "</p>\n",
      "\n",
      "<p>Based on exploratory analysis of given dataset, <a href=\"Analysis_Supplement_IntroToDS.ipynb#feature_rain\">rain</a> seemed to be insignificant factor to influence subway ridership. However, other factors such as units, station, hour and weekday seems to be important factor influencing number of entries. </p>\n"
     ]
    },
    {
     "cell_type": "heading",
     "level": 3,
     "metadata": {},
     "source": [
      "4.2 What analyses lead you to this conclusion?"
     ]
    },
    {
     "cell_type": "markdown",
     "metadata": {},
     "source": [
      "<p>\n",
      "Based on Mann-Whitney U test, on average more people ride subway on rainy days with respect to non-rainy\n",
      "days. The results show statistical significance but with large samples.</p>\n",
      "\n",
      "<p>\n",
      "From the OLS regression model and exploratory analysis, the factors influence on number of hourly entries was concluded.\n",
      "\n",
      "With help of residual plot and R-squared value we can comment\n",
      "that the model is good fit, and can help in predicting the ridership variation based on selected features.\n",
      "However, we would require a better fit to generalize this statement with more confidence that the subway\n",
      "ridership is higher in rainy vs non-rainy days. In this analysis, rain does not seem to be major feature influencing subway ridership.\n",
      "\n",
      "</p>\n",
      "\n",
      "\n",
      "\n"
     ]
    },
    {
     "cell_type": "heading",
     "level": 3,
     "metadata": {},
     "source": [
      "Section 5. Reflection"
     ]
    },
    {
     "cell_type": "markdown",
     "metadata": {},
     "source": [
      "5.1 **Please discuss potential shortcomings of the methods of your analysis, including**:\n",
      "1. Dataset,\n",
      "2. Analysis, such as the linear regression model or statistical test.\n"
     ]
    },
    {
     "cell_type": "markdown",
     "metadata": {},
     "source": [
      "**Dataset**\n",
      "\n",
      "<p>\n",
      "Dataset being used for analysis is only from the month of May, which is not the best time in\n",
      "which the rains / snow is expected. To better analyze the commuting habits, data from different times\n",
      "of the year should be studied. With just a random sample data of month May and year 2011, it would\n",
      "be difficult to predict with limited information and generalize the ridership of MTA. There could be\n",
      "some external / other factors which could have influenced the data in this duration and can impact\n",
      "prediction of the model. Say one factor could be May being a vacation month, ridership could be\n",
      "lesser during these days.</p>\n",
      "\n"
     ]
    },
    {
     "cell_type": "markdown",
     "metadata": {},
     "source": [
      "**Analysis**\n",
      "\n",
      "<p>\n",
      "The analysis performed and the model built cannot be generalize over new dataset as the training data\n",
      "is very small random subset. Without higher randomness, the test will not return results which could\n",
      "be generalized, as this is the basic data collection assumption.\n",
      "</p>\n",
      "\n",
      "<p>\n",
      "Mann Whitney U non-parametric test have a lower power than parametric tests. This means that, if\n",
      "there really is a difference between two groups, these tests are less likely to find it. This should make\n",
      "intuitive sense, since there is always a penalty for ignorance (in this case, ignorance of the\n",
      "distribution), and that penalty usually makes things harder to estimate.\n",
      "</p>\n",
      "\n",
      "\n",
      "<p>\n",
      "In linear regression, R-squared cannot determine whether the coefficient estimates and predictions are\n",
      "biased, which is why we assessed the residual plots. Linear Regression requires that all fields\n",
      "specified in the model have a value, and will remove records with missing values from the analysis.\n",
      "</p>\n",
      "\n",
      "<p>\n",
      "Also, it is possible that many phenomenon does not correspond to the linear model, hence it is\n",
      "difficult or impossible to fit to the data to produce useful results.</p>\n",
      "\n",
      "\n"
     ]
    },
    {
     "cell_type": "code",
     "collapsed": false,
     "input": [],
     "language": "python",
     "metadata": {},
     "outputs": []
    }
   ],
   "metadata": {}
  }
 ]
}